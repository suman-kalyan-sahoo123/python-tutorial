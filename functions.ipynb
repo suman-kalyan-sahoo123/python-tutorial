{
 "cells": [
  {
   "cell_type": "code",
   "execution_count": 1,
   "id": "0de80358-abf6-4b1f-b470-b37ab55f14d3",
   "metadata": {},
   "outputs": [
    {
     "name": "stdout",
     "output_type": "stream",
     "text": [
      "function executed\n"
     ]
    }
   ],
   "source": [
    "print('function executed')"
   ]
  },
  {
   "cell_type": "code",
   "execution_count": 2,
   "id": "21a147cb-04c7-4554-ac65-db0c2c03807c",
   "metadata": {},
   "outputs": [
    {
     "name": "stdout",
     "output_type": "stream",
     "text": [
      "1\n",
      "2\n"
     ]
    }
   ],
   "source": [
    "print('1')\n",
    "print('2')"
   ]
  },
  {
   "cell_type": "code",
   "execution_count": 7,
   "id": "ee444e2c-a356-4c34-8474-0ecb649a7da1",
   "metadata": {},
   "outputs": [],
   "source": [
    "#its not returning anything\n",
    "def print_to_screen():\n",
    "    print('i am a function i am being called i am executed')\n",
    "    x = 1\n",
    "    y = 3\n",
    "    print(x + y)"
   ]
  },
  {
   "cell_type": "code",
   "execution_count": 10,
   "id": "10906b8a-d613-4928-a7b2-30916ef68572",
   "metadata": {},
   "outputs": [],
   "source": [
    "def sum_of_two_numbers():\n",
    "    x = input(\"first number\")\n",
    "    y = input(\"second number\")\n",
    "    sum = int(x) + int(y)\n",
    "    print(sum)"
   ]
  },
  {
   "cell_type": "code",
   "execution_count": 15,
   "id": "7311d184-0dcf-4ee4-ac41-3602af30a85f",
   "metadata": {},
   "outputs": [],
   "source": [
    "def sum_of_two_numbers_with_return():\n",
    "    x = input(\"first number\")\n",
    "    y = input(\"second number\")\n",
    "    sum = int(x) + int(y)\n",
    "    return sum"
   ]
  },
  {
   "cell_type": "code",
   "execution_count": 6,
   "id": "29237650-e670-4d08-8e66-9a35cf093cb3",
   "metadata": {},
   "outputs": [
    {
     "name": "stdout",
     "output_type": "stream",
     "text": [
      "i am a function i am being called i am executed\n",
      "4\n"
     ]
    }
   ],
   "source": [
    "print_to_screen()"
   ]
  },
  {
   "cell_type": "code",
   "execution_count": 12,
   "id": "e93ef01c-c881-49f6-8c40-8497d0fcbb47",
   "metadata": {},
   "outputs": [
    {
     "name": "stdin",
     "output_type": "stream",
     "text": [
      "first number 5\n",
      "second number 6\n"
     ]
    },
    {
     "name": "stdout",
     "output_type": "stream",
     "text": [
      "11\n"
     ]
    }
   ],
   "source": [
    "sum_of_two = sum_of_two_numbers()"
   ]
  },
  {
   "cell_type": "code",
   "execution_count": 17,
   "id": "3a68b5f2-7417-4e8a-945f-2b47e2380712",
   "metadata": {},
   "outputs": [
    {
     "name": "stdin",
     "output_type": "stream",
     "text": [
      "first number 8\n",
      "second number 5\n"
     ]
    }
   ],
   "source": [
    "sum_of = sum_of_two_numbers_with_return()\n"
   ]
  },
  {
   "cell_type": "code",
   "execution_count": 18,
   "id": "f0039b68-9ed5-43b2-94e1-274bad653666",
   "metadata": {},
   "outputs": [
    {
     "data": {
      "text/plain": [
       "13"
      ]
     },
     "execution_count": 18,
     "metadata": {},
     "output_type": "execute_result"
    }
   ],
   "source": [
    "sum_of"
   ]
  },
  {
   "cell_type": "code",
   "execution_count": 19,
   "id": "b5479cde-3b26-4f84-8dff-f4b741a3aca4",
   "metadata": {},
   "outputs": [],
   "source": [
    "def multiply_2_numbers(x,y):\n",
    "    result = x * y\n",
    "    return result"
   ]
  },
  {
   "cell_type": "code",
   "execution_count": 22,
   "id": "89fc66f2-abd9-41bb-a758-0bd8afd82cef",
   "metadata": {},
   "outputs": [],
   "source": [
    "res = multiply_2_numbers(2,6)"
   ]
  },
  {
   "cell_type": "code",
   "execution_count": 23,
   "id": "46b9e417-8a3d-461f-97bd-b4ed88b7c05c",
   "metadata": {},
   "outputs": [
    {
     "data": {
      "text/plain": [
       "12"
      ]
     },
     "execution_count": 23,
     "metadata": {},
     "output_type": "execute_result"
    }
   ],
   "source": [
    "res"
   ]
  },
  {
   "cell_type": "code",
   "execution_count": 24,
   "id": "7750853c-5cdb-4d9c-b0bd-ab9ca5ce3cf4",
   "metadata": {},
   "outputs": [],
   "source": [
    "def print_me(text_input):\n",
    "    print(f\"i am : {text_input}\")"
   ]
  },
  {
   "cell_type": "code",
   "execution_count": 28,
   "id": "2821bf52-09a8-4c83-89fe-340adb23990a",
   "metadata": {},
   "outputs": [
    {
     "name": "stdout",
     "output_type": "stream",
     "text": [
      "i am : 5\n"
     ]
    }
   ],
   "source": [
    "print_me(5)"
   ]
  },
  {
   "cell_type": "code",
   "execution_count": 32,
   "id": "08c9b099-5644-4c3a-a063-aa033853b449",
   "metadata": {},
   "outputs": [],
   "source": [
    "def validate_phone_number(phone_num):\n",
    "    if str(phone_num).isnumeric():\n",
    "        if len(str(phone_num)) == 10:\n",
    "            if str(phone_num).startswith('0'):\n",
    "                return False\n",
    "            else:\n",
    "                return True\n",
    "        else:\n",
    "            return False\n",
    "    else:\n",
    "        return False\n",
    "    \n",
    "    "
   ]
  },
  {
   "cell_type": "code",
   "execution_count": 45,
   "id": "b522df31-47f6-44d1-83e5-a5fcf6f04ea3",
   "metadata": {},
   "outputs": [
    {
     "data": {
      "text/plain": [
       "False"
      ]
     },
     "execution_count": 45,
     "metadata": {},
     "output_type": "execute_result"
    }
   ],
   "source": []
  },
  {
   "cell_type": "code",
   "execution_count": 36,
   "id": "37a0bf8b-9961-441b-afa3-98de0af9571a",
   "metadata": {},
   "outputs": [
    {
     "name": "stdin",
     "output_type": "stream",
     "text": [
      "enter your phone number 3434533333\n"
     ]
    },
    {
     "name": "stdout",
     "output_type": "stream",
     "text": [
      "this is a valid phone number\n"
     ]
    }
   ],
   "source": [
    "input_phone = input('enter your phone number')\n",
    "if validate_phone_number(input_phone):\n",
    "    print('this is a valid phone number')\n",
    "else:\n",
    "    print('phone number invalid')"
   ]
  },
  {
   "cell_type": "code",
   "execution_count": 41,
   "id": "1dcf81a1-5b30-4ae1-ae9a-caf4a61245e4",
   "metadata": {},
   "outputs": [],
   "source": [
    "def check_if_input_is_empty(input):\n",
    "    if len(str(input).strip()) == 0:\n",
    "        print('this is not a valid input Try again')\n",
    "        return False\n",
    "    else:\n",
    "        print('this is a valid input')\n",
    "        return True"
   ]
  },
  {
   "cell_type": "code",
   "execution_count": 43,
   "id": "f5ab5af4-45bf-4b95-9206-43e9d7e3e46e",
   "metadata": {},
   "outputs": [
    {
     "name": "stdin",
     "output_type": "stream",
     "text": [
      "enter your text hjkghkghjk\n"
     ]
    },
    {
     "name": "stdout",
     "output_type": "stream",
     "text": [
      "this is a valid input\n"
     ]
    }
   ],
   "source": [
    "input_text = input('enter your text')\n",
    "check = check_if_input_is_empty(input_text)"
   ]
  },
  {
   "cell_type": "code",
   "execution_count": 55,
   "id": "021383d5-a0fa-44e9-a96e-7d1a6f9675a1",
   "metadata": {},
   "outputs": [
    {
     "name": "stdout",
     "output_type": "stream",
     "text": [
      "\n",
      "PHONEBOOK:\n",
      "\n",
      "******* add new contact(PRESS 1) *****\n",
      "******* look up contact(PRESS 2) ******\n",
      "delete contact(PRESS 3)\n",
      "list all contacts(PRESS 4)\n",
      "quit(PRESS 5)\n"
     ]
    },
    {
     "ename": "KeyboardInterrupt",
     "evalue": "Interrupted by user",
     "output_type": "error",
     "traceback": [
      "\u001b[0;31m---------------------------------------------------------------------------\u001b[0m",
      "\u001b[0;31mKeyboardInterrupt\u001b[0m                         Traceback (most recent call last)",
      "Input \u001b[0;32mIn [55]\u001b[0m, in \u001b[0;36m<cell line: 4>\u001b[0;34m()\u001b[0m\n\u001b[1;32m      2\u001b[0m \u001b[38;5;66;03m#choice = ask_for_input()\u001b[39;00m\n\u001b[1;32m      3\u001b[0m \u001b[38;5;28;01mwhile\u001b[39;00m \u001b[38;5;28;01mTrue\u001b[39;00m:\n\u001b[0;32m----> 4\u001b[0m     choice \u001b[38;5;241m=\u001b[39m \u001b[43mask_for_input\u001b[49m\u001b[43m(\u001b[49m\u001b[43m)\u001b[49m\n\u001b[1;32m      5\u001b[0m     \u001b[38;5;28;01mif\u001b[39;00m choice \u001b[38;5;241m==\u001b[39m \u001b[38;5;124m'\u001b[39m\u001b[38;5;124m1\u001b[39m\u001b[38;5;124m'\u001b[39m:\n\u001b[1;32m      6\u001b[0m         add_new_contact()\n",
      "Input \u001b[0;32mIn [54]\u001b[0m, in \u001b[0;36mask_for_input\u001b[0;34m()\u001b[0m\n\u001b[1;32m      6\u001b[0m \u001b[38;5;28mprint\u001b[39m(\u001b[38;5;124m\"\u001b[39m\u001b[38;5;124mlist all contacts(PRESS 4)\u001b[39m\u001b[38;5;124m\"\u001b[39m)\n\u001b[1;32m      7\u001b[0m \u001b[38;5;28mprint\u001b[39m(\u001b[38;5;124m\"\u001b[39m\u001b[38;5;124mquit(PRESS 5)\u001b[39m\u001b[38;5;124m\"\u001b[39m)\n\u001b[0;32m----> 8\u001b[0m choice \u001b[38;5;241m=\u001b[39m \u001b[38;5;28;43minput\u001b[39;49m\u001b[43m(\u001b[49m\u001b[38;5;124;43m'\u001b[39;49m\u001b[38;5;124;43mplease enter your choice\u001b[39;49m\u001b[38;5;124;43m'\u001b[39;49m\u001b[43m)\u001b[49m\n\u001b[1;32m      9\u001b[0m \u001b[38;5;28;01mreturn\u001b[39;00m choice\n",
      "File \u001b[0;32m~/opt/anaconda3/lib/python3.9/site-packages/ipykernel/kernelbase.py:1075\u001b[0m, in \u001b[0;36mKernel.raw_input\u001b[0;34m(self, prompt)\u001b[0m\n\u001b[1;32m   1071\u001b[0m \u001b[38;5;28;01mif\u001b[39;00m \u001b[38;5;129;01mnot\u001b[39;00m \u001b[38;5;28mself\u001b[39m\u001b[38;5;241m.\u001b[39m_allow_stdin:\n\u001b[1;32m   1072\u001b[0m     \u001b[38;5;28;01mraise\u001b[39;00m StdinNotImplementedError(\n\u001b[1;32m   1073\u001b[0m         \u001b[38;5;124m\"\u001b[39m\u001b[38;5;124mraw_input was called, but this frontend does not support input requests.\u001b[39m\u001b[38;5;124m\"\u001b[39m\n\u001b[1;32m   1074\u001b[0m     )\n\u001b[0;32m-> 1075\u001b[0m \u001b[38;5;28;01mreturn\u001b[39;00m \u001b[38;5;28;43mself\u001b[39;49m\u001b[38;5;241;43m.\u001b[39;49m\u001b[43m_input_request\u001b[49m\u001b[43m(\u001b[49m\n\u001b[1;32m   1076\u001b[0m \u001b[43m    \u001b[49m\u001b[38;5;28;43mstr\u001b[39;49m\u001b[43m(\u001b[49m\u001b[43mprompt\u001b[49m\u001b[43m)\u001b[49m\u001b[43m,\u001b[49m\n\u001b[1;32m   1077\u001b[0m \u001b[43m    \u001b[49m\u001b[38;5;28;43mself\u001b[39;49m\u001b[38;5;241;43m.\u001b[39;49m\u001b[43m_parent_ident\u001b[49m\u001b[43m[\u001b[49m\u001b[38;5;124;43m\"\u001b[39;49m\u001b[38;5;124;43mshell\u001b[39;49m\u001b[38;5;124;43m\"\u001b[39;49m\u001b[43m]\u001b[49m\u001b[43m,\u001b[49m\n\u001b[1;32m   1078\u001b[0m \u001b[43m    \u001b[49m\u001b[38;5;28;43mself\u001b[39;49m\u001b[38;5;241;43m.\u001b[39;49m\u001b[43mget_parent\u001b[49m\u001b[43m(\u001b[49m\u001b[38;5;124;43m\"\u001b[39;49m\u001b[38;5;124;43mshell\u001b[39;49m\u001b[38;5;124;43m\"\u001b[39;49m\u001b[43m)\u001b[49m\u001b[43m,\u001b[49m\n\u001b[1;32m   1079\u001b[0m \u001b[43m    \u001b[49m\u001b[43mpassword\u001b[49m\u001b[38;5;241;43m=\u001b[39;49m\u001b[38;5;28;43;01mFalse\u001b[39;49;00m\u001b[43m,\u001b[49m\n\u001b[1;32m   1080\u001b[0m \u001b[43m\u001b[49m\u001b[43m)\u001b[49m\n",
      "File \u001b[0;32m~/opt/anaconda3/lib/python3.9/site-packages/ipykernel/kernelbase.py:1120\u001b[0m, in \u001b[0;36mKernel._input_request\u001b[0;34m(self, prompt, ident, parent, password)\u001b[0m\n\u001b[1;32m   1117\u001b[0m             \u001b[38;5;28;01mbreak\u001b[39;00m\n\u001b[1;32m   1118\u001b[0m \u001b[38;5;28;01mexcept\u001b[39;00m \u001b[38;5;167;01mKeyboardInterrupt\u001b[39;00m:\n\u001b[1;32m   1119\u001b[0m     \u001b[38;5;66;03m# re-raise KeyboardInterrupt, to truncate traceback\u001b[39;00m\n\u001b[0;32m-> 1120\u001b[0m     \u001b[38;5;28;01mraise\u001b[39;00m \u001b[38;5;167;01mKeyboardInterrupt\u001b[39;00m(\u001b[38;5;124m\"\u001b[39m\u001b[38;5;124mInterrupted by user\u001b[39m\u001b[38;5;124m\"\u001b[39m) \u001b[38;5;28;01mfrom\u001b[39;00m \u001b[38;5;28;01mNone\u001b[39;00m\n\u001b[1;32m   1121\u001b[0m \u001b[38;5;28;01mexcept\u001b[39;00m \u001b[38;5;167;01mException\u001b[39;00m:\n\u001b[1;32m   1122\u001b[0m     \u001b[38;5;28mself\u001b[39m\u001b[38;5;241m.\u001b[39mlog\u001b[38;5;241m.\u001b[39mwarning(\u001b[38;5;124m\"\u001b[39m\u001b[38;5;124mInvalid Message:\u001b[39m\u001b[38;5;124m\"\u001b[39m, exc_info\u001b[38;5;241m=\u001b[39m\u001b[38;5;28;01mTrue\u001b[39;00m)\n",
      "\u001b[0;31mKeyboardInterrupt\u001b[0m: Interrupted by user"
     ]
    }
   ],
   "source": [
    "phonebook={}\n",
    "#choice = ask_for_input()\n",
    "while True:\n",
    "    choice = ask_for_input()\n",
    "    if choice == '1':\n",
    "        add_new_contact()\n",
    "    elif choice == '2':\n",
    "        search_contact()\n",
    "    elif choice == '3':\n",
    "        delete_contact()\n",
    "    elif choice == '4':\n",
    "        display_all_contacts()\n",
    "    elif choice == '5':\n",
    "        print(\"Exiting the phonebook application.\")\n",
    "        break\n",
    "    else:\n",
    "        print(\"Invalid choice. Please choose again.\")"
   ]
  },
  {
   "cell_type": "code",
   "execution_count": null,
   "id": "91e8f3c1-9eb7-4760-883d-c428c868e88f",
   "metadata": {},
   "outputs": [],
   "source": []
  },
  {
   "cell_type": "code",
   "execution_count": null,
   "id": "495b9211-9ada-4935-8fe3-5fa16eb54270",
   "metadata": {},
   "outputs": [],
   "source": []
  },
  {
   "cell_type": "code",
   "execution_count": null,
   "id": "d4b7228b-5f54-4143-bcd9-4680ed4d1b8a",
   "metadata": {},
   "outputs": [],
   "source": [
    "def display_interface():\n",
    "    "
   ]
  },
  {
   "cell_type": "code",
   "execution_count": 54,
   "id": "97750a53-506c-4185-ab6a-e3697d43f211",
   "metadata": {},
   "outputs": [],
   "source": [
    "def ask_for_input():\n",
    "    print(\"\\nPHONEBOOK:\\n\")\n",
    "    print(\"******* add new contact(PRESS 1) *****\")\n",
    "    print(\"******* look up contact(PRESS 2) ******\")\n",
    "    print(\"delete contact(PRESS 3)\")\n",
    "    print(\"list all contacts(PRESS 4)\")\n",
    "    print(\"quit(PRESS 5)\")\n",
    "    choice = input('please enter your choice')\n",
    "    return choice"
   ]
  },
  {
   "cell_type": "code",
   "execution_count": 46,
   "id": "f6866528-5b77-4927-84ea-530aec8f5c8f",
   "metadata": {},
   "outputs": [],
   "source": [
    "phonebook = {}\n",
    "def add_new_contact():\n",
    "    name = input('enter the name ')\n",
    "    phone_number = input('enter the phone number')\n",
    "    if check_if_input_is_empty(name) and validate_phone_number(phone_number):\n",
    "        phonebook[name]=phone_number\n",
    "        print('phone number successfully added!!')\n",
    "    else:\n",
    "        print('Invalid input, please try again')\n",
    "    \n",
    "    \n",
    "    "
   ]
  },
  {
   "cell_type": "code",
   "execution_count": null,
   "id": "3a419d6a-b839-4e02-9fab-51fcb6b91045",
   "metadata": {},
   "outputs": [],
   "source": []
  },
  {
   "cell_type": "code",
   "execution_count": 47,
   "id": "442f5c24-e712-4fda-85a5-70bce4e1d633",
   "metadata": {},
   "outputs": [],
   "source": [
    "phonebook = {}\n",
    "def search_contact():\n",
    "    name = input('enter the name ')\n",
    "    if check_if_input_is_empty(name):\n",
    "        if name in phonebook:\n",
    "            phone_num = phonebook[name]\n",
    "            print(f'phone number for {name} is : {phone_num}')\n",
    "        else:\n",
    "            print('phone number not found ')\n",
    "    else:\n",
    "        print('Invalid input, please try again')"
   ]
  },
  {
   "cell_type": "code",
   "execution_count": null,
   "id": "23118255-2f82-44aa-934e-e0f2bd3c9e97",
   "metadata": {},
   "outputs": [],
   "source": []
  },
  {
   "cell_type": "code",
   "execution_count": 48,
   "id": "47215afa-36d7-4357-affb-8c6d4574a4ec",
   "metadata": {},
   "outputs": [],
   "source": [
    "\n",
    "def delete_contact():\n",
    "    name = input('enter the name ')\n",
    "    if check_if_input_is_empty(name):\n",
    "        if name in phonebook:\n",
    "            del phonebook[name]\n",
    "            print(f'successfully deleted {name} from phoneboook')\n",
    "        else:\n",
    "            print('phone number not found ')\n",
    "    else:\n",
    "        print('Invalid input, please try again')"
   ]
  },
  {
   "cell_type": "code",
   "execution_count": 49,
   "id": "c41202c8-2290-4711-ad31-8b325caa5372",
   "metadata": {},
   "outputs": [],
   "source": [
    "def display_all_contacts():\n",
    "    for name,number in phonebook.items():\n",
    "        print(f'{name} - {number}')"
   ]
  },
  {
   "cell_type": "code",
   "execution_count": 57,
   "id": "54e5f1e8-4eb0-4d3a-a57b-e51cb1ae6159",
   "metadata": {},
   "outputs": [],
   "source": [
    "# write a function which takes a dictionary as input argument and converts it into a json string and saves it to a file"
   ]
  },
  {
   "cell_type": "code",
   "execution_count": 58,
   "id": "14b40a36-30c9-40c7-9a4b-a38872b0cb6e",
   "metadata": {},
   "outputs": [],
   "source": [
    "# add onemore functionality to update the phone number for a person"
   ]
  },
  {
   "cell_type": "code",
   "execution_count": null,
   "id": "e4fcc96d-86c7-481d-848a-5331a85d2347",
   "metadata": {},
   "outputs": [],
   "source": [
    "# write a function to read the json file and return a dictionary"
   ]
  },
  {
   "cell_type": "code",
   "execution_count": 59,
   "id": "b469e07f-a8bf-4414-b730-e54740c9c23c",
   "metadata": {},
   "outputs": [],
   "source": [
    "# every phone number and name should be stored permanently in the json"
   ]
  },
  {
   "cell_type": "code",
   "execution_count": null,
   "id": "d910c147-1a8b-4fba-a187-4c002d9728c2",
   "metadata": {},
   "outputs": [],
   "source": [
    "# when the program starts it shuld read the json file convert it to a doctionary and do all operation(add,delete,update) when done before exiting application it should write the latest data to the file."
   ]
  },
  {
   "cell_type": "code",
   "execution_count": null,
   "id": "a9b222d6-2d08-43c1-97e8-9f94dafb894b",
   "metadata": {},
   "outputs": [],
   "source": [
    "# maintain a log file to track all the work"
   ]
  },
  {
   "cell_type": "code",
   "execution_count": null,
   "id": "adfb5cc9-48a3-4bbb-9de9-ccf5ec4ca4d1",
   "metadata": {},
   "outputs": [],
   "source": [
    "#def write_to_log_file(log_text):\n",
    "    # "
   ]
  },
  {
   "cell_type": "code",
   "execution_count": null,
   "id": "df23e04d-c64c-4f3c-883c-eda43cfbe70d",
   "metadata": {},
   "outputs": [],
   "source": [
    "# log entry should be like 2023-08-09 time added contact this and this is the number\n",
    "#                                     deleted contact "
   ]
  }
 ],
 "metadata": {
  "kernelspec": {
   "display_name": "Python 3 (ipykernel)",
   "language": "python",
   "name": "python3"
  },
  "language_info": {
   "codemirror_mode": {
    "name": "ipython",
    "version": 3
   },
   "file_extension": ".py",
   "mimetype": "text/x-python",
   "name": "python",
   "nbconvert_exporter": "python",
   "pygments_lexer": "ipython3",
   "version": "3.9.12"
  }
 },
 "nbformat": 4,
 "nbformat_minor": 5
}
