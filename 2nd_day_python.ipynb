{
 "cells": [
  {
   "cell_type": "code",
   "execution_count": null,
   "id": "98864ab7-8a84-4014-98b3-f3ff4166e46e",
   "metadata": {},
   "outputs": [],
   "source": [
    "#if clause else clause"
   ]
  },
  {
   "cell_type": "code",
   "execution_count": 6,
   "id": "fcc82252-c4a8-4aaf-9f35-7e59494d860c",
   "metadata": {},
   "outputs": [],
   "source": [
    "number_1 = 80\n",
    "number_2 = 30"
   ]
  },
  {
   "cell_type": "code",
   "execution_count": 9,
   "id": "d9ac644f-5dd8-454c-8cdd-a722893a5517",
   "metadata": {},
   "outputs": [
    {
     "name": "stdout",
     "output_type": "stream",
     "text": [
      " number_1 is greater than number_2\n"
     ]
    }
   ],
   "source": [
    "if number_1 > number_2:\n",
    "    print(\" number_1 is greater than number_2\")\n",
    "else:\n",
    "    print(\"number_1 is smaller than number_2\")\n",
    "    \n",
    "    "
   ]
  },
  {
   "cell_type": "code",
   "execution_count": null,
   "id": "3eff415b-9fbf-4c27-a81e-bb5f09d3aab5",
   "metadata": {},
   "outputs": [],
   "source": [
    "if number_1 >= number_2:\n",
    "    print(\" number_1 is greater than number_2\")\n",
    "else:\n",
    "    print(\"number_1 is smaller than number_2\")\n",
    "    \n",
    "    "
   ]
  },
  {
   "cell_type": "code",
   "execution_count": 12,
   "id": "8cc546c3-3140-443f-b43d-13ebe4273ea4",
   "metadata": {},
   "outputs": [
    {
     "name": "stdout",
     "output_type": "stream",
     "text": [
      "entry is not allowed\n"
     ]
    }
   ],
   "source": [
    "name = \"stafy\"\n",
    "\n",
    "if name == \"steffy\":\n",
    "    print(\"entry is allowed\")\n",
    "else:\n",
    "    print(\"entry is not allowed\")\n",
    "    "
   ]
  },
  {
   "cell_type": "code",
   "execution_count": 26,
   "id": "efa3df00-2f8b-426d-9d48-7f8440f51772",
   "metadata": {},
   "outputs": [
    {
     "name": "stdin",
     "output_type": "stream",
     "text": [
      "enter your name WILL\n"
     ]
    },
    {
     "name": "stdout",
     "output_type": "stream",
     "text": [
      "you are the organiser, you are allowed !!\n"
     ]
    }
   ],
   "source": [
    "name = input(\"enter your name\")\n",
    "name = name.lower()\n",
    "#print(\"your name is :\" +name)\n",
    "if name == \"ram\":\n",
    "    print(\" you are a participant, you are allowed !!\")\n",
    "elif name == \"will\":\n",
    "    print(\"you are the organiser, you are allowed !!\")\n",
    "elif name == \"abhi\":\n",
    "    print(\" you are the owner, you are allowed !! \")\n",
    "else:\n",
    "    print(\"you are not invited !! not allowed\")\n",
    "    "
   ]
  },
  {
   "cell_type": "code",
   "execution_count": 33,
   "id": "cf2cf0be-42a3-4eb1-a4bb-7b32eacfaa2b",
   "metadata": {},
   "outputs": [
    {
     "name": "stdin",
     "output_type": "stream",
     "text": [
      "enter your name Will\n"
     ]
    },
    {
     "name": "stdout",
     "output_type": "stream",
     "text": [
      "your name is-:Will\n",
      "your name is Will and you are allowed\n",
      "your name is Will and you are allowed\n"
     ]
    }
   ],
   "source": [
    "name = input(\"enter your name\")\n",
    "# how to concartenate varibale inside print statement\n",
    "\n",
    "#method 1\n",
    "print(\"your name is-:\" +name )\n",
    "#method 2\n",
    "print(\"your name is \" +name+ \" and you are allowed\")\n",
    "#method 3\n",
    "print(f\"your name is {name} and you are allowed\")"
   ]
  },
  {
   "cell_type": "code",
   "execution_count": null,
   "id": "b34dce64-a0d8-42fa-b922-cac077f7c027",
   "metadata": {},
   "outputs": [],
   "source": [
    "#calculator program"
   ]
  },
  {
   "cell_type": "code",
   "execution_count": 51,
   "id": "0982b3bd-8d2d-41cc-8c51-281141202626",
   "metadata": {},
   "outputs": [
    {
     "name": "stdin",
     "output_type": "stream",
     "text": [
      "select the operation you want to do press 1 for Addition press 2 for Substract press 3 for multiply press 4 for divide 4\n",
      "Enter the first number you want to divide 3\n",
      "enter the second number you want to divide -4\n"
     ]
    },
    {
     "name": "stdout",
     "output_type": "stream",
     "text": [
      "second number can not be zero !! please try with a positive number > 0\n"
     ]
    }
   ],
   "source": [
    "operation = input(\"select the operation you want to do press 1 for Addition press 2 for Substract press 3 for multiply press 4 for divide\")\n",
    "\n",
    "if operation == \"1\":\n",
    "    num_1 = input(\"Enter the first number you want to add\")\n",
    "    num_2 = input(\"enter the second number you want to add\")\n",
    "    result = int(num_1) + int(num_2)\n",
    "    result = print(f\"the result is {result}\")\n",
    "elif operation == \"2\":\n",
    "    num_1 = input(\"Enter the first number you want to substract\")\n",
    "    num_2 = input(\"enter the second number you want to substract\")\n",
    "    result = int(num_1) - int(num_2)\n",
    "    result = print(f\"the result is {result}\")\n",
    "elif operation == \"3\":\n",
    "    num_1 = input(\"Enter the first number you want to Multiply\")\n",
    "    num_2 = input(\"enter the second number you want to Multiply\")\n",
    "    result = int(num_1) * int(num_2)\n",
    "    result = print(f\"the result is {result}\")\n",
    "elif operation == \"4\":\n",
    "    num_1 = input(\"Enter the first number you want to divide\")\n",
    "    num_2 = input(\"enter the second number you want to divide\")\n",
    "    if int(num_2) <= 0:\n",
    "        print(\"second number can not be zero !! please try with a positive number > 0\")\n",
    "    else:\n",
    "        result = int(num_1) / int(num_2)\n",
    "        result = print(f\"the result is {result}\")\n",
    "else:\n",
    "    print(\"this option is invalid\")"
   ]
  },
  {
   "cell_type": "code",
   "execution_count": 52,
   "id": "5e1ef94c-34cd-47ac-befc-81e4fe7eb65c",
   "metadata": {},
   "outputs": [],
   "source": []
  },
  {
   "cell_type": "code",
   "execution_count": 53,
   "id": "9ac46549-8f46-4486-9cdc-f8bde7f1daa1",
   "metadata": {},
   "outputs": [],
   "source": [
    "#Data collections objects\n",
    "#set\n",
    "#list (also called array in java)\n",
    "#tuple\n",
    "#dictionary"
   ]
  },
  {
   "cell_type": "code",
   "execution_count": 81,
   "id": "fc301db1-0962-45e9-b55e-370a84c209af",
   "metadata": {},
   "outputs": [],
   "source": [
    "#set\n",
    "# \n",
    "my_first_set_of_names = {\"ram_chran\",\"shyam\",'will',1,True}\n"
   ]
  },
  {
   "cell_type": "code",
   "execution_count": 96,
   "id": "aaea39ff-ee5f-4a80-871c-c6049fad69ca",
   "metadata": {},
   "outputs": [],
   "source": [
    "#Sets are used to store multiple items in a single variable.\n",
    "# you can not add duplicates\n",
    "# sets are immutable this measn you can not change the value of any item you can only remove or add itsms\n",
    "# sets can not be indexed\n",
    "#can store multiple data types\n",
    "# there is no order of elements\n",
    "# these are unordered"
   ]
  },
  {
   "cell_type": "code",
   "execution_count": 82,
   "id": "e6e93f21-aa3a-4e2c-b4a4-3a2f572abf46",
   "metadata": {},
   "outputs": [],
   "source": [
    "my_first_set_of_names.add(\"abhishek sahoo\")"
   ]
  },
  {
   "cell_type": "code",
   "execution_count": 83,
   "id": "5ee5cc73-0cda-428a-a090-415770be55a2",
   "metadata": {},
   "outputs": [
    {
     "data": {
      "text/plain": [
       "{1, 'abhishek sahoo', 'ram_chran', 'shyam', 'will'}"
      ]
     },
     "execution_count": 83,
     "metadata": {},
     "output_type": "execute_result"
    }
   ],
   "source": [
    "my_first_set_of_names"
   ]
  },
  {
   "cell_type": "code",
   "execution_count": 87,
   "id": "69ba5a23-27e4-48a9-9fb3-5b595f95feec",
   "metadata": {},
   "outputs": [],
   "source": [
    "my_first_set_of_names.remove(\"shyam\")"
   ]
  },
  {
   "cell_type": "code",
   "execution_count": 88,
   "id": "428f552b-2250-470d-98ab-7a85e0bc45a4",
   "metadata": {},
   "outputs": [
    {
     "data": {
      "text/plain": [
       "{1, 'abhishek sahoo', 'will'}"
      ]
     },
     "execution_count": 88,
     "metadata": {},
     "output_type": "execute_result"
    }
   ],
   "source": [
    "my_first_set_of_names"
   ]
  },
  {
   "cell_type": "code",
   "execution_count": 89,
   "id": "a18ce7ed-5557-4c47-b726-af5ee6d295b1",
   "metadata": {},
   "outputs": [
    {
     "data": {
      "text/plain": [
       "set"
      ]
     },
     "execution_count": 89,
     "metadata": {},
     "output_type": "execute_result"
    }
   ],
   "source": [
    "type(my_first_set_of_names)"
   ]
  },
  {
   "cell_type": "code",
   "execution_count": 107,
   "id": "4bbf4d08-e472-44e7-a29a-0b0a42bf9a90",
   "metadata": {},
   "outputs": [],
   "source": [
    "#2nd data collection object\n",
    "#LIST\n",
    "# stores multiple values in a simgle variable\n",
    "#you can store duplicates\n",
    "#list can be indexed\n",
    "#lists are ordered\n",
    "# lists are mutable you can change the value of any itesm in the list"
   ]
  },
  {
   "cell_type": "code",
   "execution_count": 129,
   "id": "f3d48a79-69ba-4032-815c-d15ff8e75818",
   "metadata": {},
   "outputs": [],
   "source": [
    "my_list = [1,3,4,4,'ram']"
   ]
  },
  {
   "cell_type": "code",
   "execution_count": 92,
   "id": "fd5ef399-7f74-49f4-ab8e-47760cc6791a",
   "metadata": {},
   "outputs": [
    {
     "data": {
      "text/plain": [
       "list"
      ]
     },
     "execution_count": 92,
     "metadata": {},
     "output_type": "execute_result"
    }
   ],
   "source": [
    "type(my_list)"
   ]
  },
  {
   "cell_type": "code",
   "execution_count": 100,
   "id": "c1fca2d5-bea1-4db5-b33c-f6f760888487",
   "metadata": {},
   "outputs": [
    {
     "data": {
      "text/plain": [
       "5"
      ]
     },
     "execution_count": 100,
     "metadata": {},
     "output_type": "execute_result"
    }
   ],
   "source": [
    "len(my_list) # gets the length of the list"
   ]
  },
  {
   "cell_type": "code",
   "execution_count": 103,
   "id": "6f76b870-5a7b-4a0b-a9e6-0fd7cb944865",
   "metadata": {},
   "outputs": [
    {
     "data": {
      "text/plain": [
       "'ram'"
      ]
     },
     "execution_count": 103,
     "metadata": {},
     "output_type": "execute_result"
    }
   ],
   "source": [
    "my_list[4]"
   ]
  },
  {
   "cell_type": "code",
   "execution_count": 105,
   "id": "71ef41ee-b1a5-4cbe-aba4-34606492b5cb",
   "metadata": {},
   "outputs": [],
   "source": [
    "my_list[3]='David'"
   ]
  },
  {
   "cell_type": "code",
   "execution_count": 106,
   "id": "dd6d5f8f-3019-47c3-9df2-36e9f5a02d46",
   "metadata": {},
   "outputs": [
    {
     "data": {
      "text/plain": [
       "[1, 3, 4, 'David', 'ram']"
      ]
     },
     "execution_count": 106,
     "metadata": {},
     "output_type": "execute_result"
    }
   ],
   "source": [
    "my_list"
   ]
  },
  {
   "cell_type": "code",
   "execution_count": 108,
   "id": "8883c0f8-6922-4204-846d-cf29254d8afa",
   "metadata": {},
   "outputs": [],
   "source": [
    "my_list.append(\"ramc haram sahoo\")"
   ]
  },
  {
   "cell_type": "code",
   "execution_count": 112,
   "id": "db959d3c-2f93-49d7-8318-c394bedfcb35",
   "metadata": {},
   "outputs": [],
   "source": [
    "my_list.remove(4)"
   ]
  },
  {
   "cell_type": "code",
   "execution_count": 119,
   "id": "3ce815a4-8de8-48da-b661-940d6b74c173",
   "metadata": {},
   "outputs": [
    {
     "data": {
      "text/plain": [
       "['ramc haram sahoo', 'ram', 3, 1]"
      ]
     },
     "execution_count": 119,
     "metadata": {},
     "output_type": "execute_result"
    }
   ],
   "source": [
    "my_list"
   ]
  },
  {
   "cell_type": "code",
   "execution_count": 114,
   "id": "be9228a4-9888-4d13-b7ef-93938cbd1d49",
   "metadata": {},
   "outputs": [],
   "source": [
    "my_list.reverse()"
   ]
  },
  {
   "cell_type": "code",
   "execution_count": 137,
   "id": "d325fcca-58e8-49ff-a794-d7a1b83cc02d",
   "metadata": {},
   "outputs": [
    {
     "data": {
      "text/plain": [
       "[1, 3, 4]"
      ]
     },
     "execution_count": 137,
     "metadata": {},
     "output_type": "execute_result"
    }
   ],
   "source": [
    "my_list"
   ]
  },
  {
   "cell_type": "code",
   "execution_count": 135,
   "id": "1dec4598-a130-477f-8e56-c8c873bd5551",
   "metadata": {},
   "outputs": [],
   "source": [
    "item = my_list.pop()"
   ]
  },
  {
   "cell_type": "code",
   "execution_count": 136,
   "id": "45ee1b4b-8cd7-41e5-9589-8a9e5596e210",
   "metadata": {
    "scrolled": true
   },
   "outputs": [
    {
     "data": {
      "text/plain": [
       "4"
      ]
     },
     "execution_count": 136,
     "metadata": {},
     "output_type": "execute_result"
    }
   ],
   "source": [
    "item"
   ]
  },
  {
   "cell_type": "code",
   "execution_count": null,
   "id": "7d002d71-d7f0-49cd-8a81-19e5a8582efb",
   "metadata": {},
   "outputs": [],
   "source": [
    "#home work for tomorrow"
   ]
  },
  {
   "cell_type": "code",
   "execution_count": null,
   "id": "81398a9f-8b7c-4882-86ef-09d537e255ad",
   "metadata": {},
   "outputs": [],
   "source": [
    "# # write a program\n",
    "# Ticket Price Calculator: Write a program that calculates the ticket price for a movie theater based on the user's age. The ticket prices are as follows:\n",
    "\n",
    "# Children (age 0-12): $5\n",
    "# Teenagers (age 13-17): $7\n",
    "# Adults (age 18-64): $10\n",
    "# Seniors (age 65 and above): $8\n",
    "\n",
    "# 1 ) first you need to ask how many persons want to watch the movie\n",
    "# 2)  then ask age of each person person1_age person_2 age\n",
    "# 3)  based on the age for each person calclate the total amount to be paid .\n",
    "\n",
    "# # also consider the age of the person should not be more than 100 \n",
    "# # also check they should only enter numbers not strings\n",
    "# # "
   ]
  },
  {
   "cell_type": "code",
   "execution_count": null,
   "id": "8af10181-c2ed-4ebb-a15f-3e9f135493ae",
   "metadata": {},
   "outputs": [],
   "source": []
  },
  {
   "cell_type": "code",
   "execution_count": null,
   "id": "247e9664-bf27-44ae-a3e4-88a51843feb1",
   "metadata": {},
   "outputs": [],
   "source": []
  },
  {
   "cell_type": "code",
   "execution_count": null,
   "id": "f7049937-fad8-4687-86a2-6c602e26cfcc",
   "metadata": {},
   "outputs": [],
   "source": []
  }
 ],
 "metadata": {
  "kernelspec": {
   "display_name": "Python 3 (ipykernel)",
   "language": "python",
   "name": "python3"
  },
  "language_info": {
   "codemirror_mode": {
    "name": "ipython",
    "version": 3
   },
   "file_extension": ".py",
   "mimetype": "text/x-python",
   "name": "python",
   "nbconvert_exporter": "python",
   "pygments_lexer": "ipython3",
   "version": "3.9.12"
  }
 },
 "nbformat": 4,
 "nbformat_minor": 5
}
