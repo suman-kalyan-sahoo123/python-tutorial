{
 "cells": [
  {
   "cell_type": "code",
   "execution_count": 3,
   "id": "62e85ee8-8d6b-4e5e-b5b8-a3ca5c311204",
   "metadata": {},
   "outputs": [],
   "source": [
    "new_dict = {\"car_model\":\"ford\",\"car_colors\":['red','yellow']}"
   ]
  },
  {
   "cell_type": "code",
   "execution_count": 4,
   "id": "0afde3fe-0b69-41d9-a85d-eb40454e93f2",
   "metadata": {},
   "outputs": [
    {
     "data": {
      "text/plain": [
       "'ford'"
      ]
     },
     "execution_count": 4,
     "metadata": {},
     "output_type": "execute_result"
    }
   ],
   "source": [
    "new_dict[\"car_model\"]"
   ]
  },
  {
   "cell_type": "code",
   "execution_count": 6,
   "id": "472e42f9-62a8-4855-97b3-7782c053be22",
   "metadata": {},
   "outputs": [
    {
     "data": {
      "text/plain": [
       "'red'"
      ]
     },
     "execution_count": 6,
     "metadata": {},
     "output_type": "execute_result"
    }
   ],
   "source": [
    "new_dict[\"car_colors\"][0]"
   ]
  },
  {
   "cell_type": "code",
   "execution_count": null,
   "id": "36e078ce-2a04-4875-9f12-be13f9244fb3",
   "metadata": {},
   "outputs": [],
   "source": [
    "#nested json or nested dictionary"
   ]
  },
  {
   "cell_type": "code",
   "execution_count": 8,
   "id": "45a8d148-912c-4ba4-aa6e-12f03ef6d483",
   "metadata": {},
   "outputs": [],
   "source": [
    "new_car = {\"car_model\":\"ford\",\"car_details\":{\"color\":\"red\",\"make\":2003}}"
   ]
  },
  {
   "cell_type": "code",
   "execution_count": 9,
   "id": "18808a61-036c-448e-8b3f-374949c55d76",
   "metadata": {},
   "outputs": [
    {
     "data": {
      "text/plain": [
       "2003"
      ]
     },
     "execution_count": 9,
     "metadata": {},
     "output_type": "execute_result"
    }
   ],
   "source": [
    "new_car[\"car_details\"][\"make\"]"
   ]
  },
  {
   "cell_type": "code",
   "execution_count": 10,
   "id": "0e3c1db2-ef73-4bec-b68a-88b426cd22db",
   "metadata": {},
   "outputs": [],
   "source": [
    "dict_in_list = [{\"color\":\"red\"},{\"make\":2003}]"
   ]
  },
  {
   "cell_type": "code",
   "execution_count": 11,
   "id": "ec2ccd95-a2d0-4409-a6c9-26158c856e71",
   "metadata": {},
   "outputs": [
    {
     "data": {
      "text/plain": [
       "2003"
      ]
     },
     "execution_count": 11,
     "metadata": {},
     "output_type": "execute_result"
    }
   ],
   "source": [
    "dict_in_list[1][\"make\"]"
   ]
  },
  {
   "cell_type": "code",
   "execution_count": null,
   "id": "dae551cb-0fc5-489a-a80a-746cb2250e19",
   "metadata": {},
   "outputs": [],
   "source": [
    "#phonebook.json"
   ]
  },
  {
   "cell_type": "code",
   "execution_count": 41,
   "id": "41afd474-943b-453f-9e81-48a101fd9b53",
   "metadata": {},
   "outputs": [],
   "source": [
    "file = open(\"students.json\", \"r\")\n",
    "text_in_file = file.read()"
   ]
  },
  {
   "cell_type": "code",
   "execution_count": 29,
   "id": "e44da8b1-5326-483c-8c09-b36ad2fd8b1c",
   "metadata": {},
   "outputs": [],
   "source": [
    "import json"
   ]
  },
  {
   "cell_type": "code",
   "execution_count": 31,
   "id": "ab380078-f22b-4451-b3f2-505a8367ee0d",
   "metadata": {},
   "outputs": [],
   "source": [
    "#json.loads()  # it will take a json string as input and convert it into a dicitonary or a json object"
   ]
  },
  {
   "cell_type": "code",
   "execution_count": 32,
   "id": "12456b45-9a1f-4a45-a106-3c1d84ca6b32",
   "metadata": {},
   "outputs": [],
   "source": [
    "#json.dumps() #it takes jaon object or dictionary as input converts it to a string"
   ]
  },
  {
   "cell_type": "code",
   "execution_count": 42,
   "id": "0f67a6e6-3ac0-4287-9f1a-674acb4f386b",
   "metadata": {},
   "outputs": [
    {
     "data": {
      "text/plain": [
       "str"
      ]
     },
     "execution_count": 42,
     "metadata": {},
     "output_type": "execute_result"
    }
   ],
   "source": [
    "type(text_in_file)"
   ]
  },
  {
   "cell_type": "code",
   "execution_count": 34,
   "id": "d2d4d948-0efc-4652-87a8-15ace34afca9",
   "metadata": {},
   "outputs": [
    {
     "ename": "TypeError",
     "evalue": "string indices must be integers",
     "output_type": "error",
     "traceback": [
      "\u001b[0;31m---------------------------------------------------------------------------\u001b[0m",
      "\u001b[0;31mTypeError\u001b[0m                                 Traceback (most recent call last)",
      "Input \u001b[0;32mIn [34]\u001b[0m, in \u001b[0;36m<cell line: 1>\u001b[0;34m()\u001b[0m\n\u001b[0;32m----> 1\u001b[0m \u001b[43mtext_in_file\u001b[49m\u001b[43m[\u001b[49m\u001b[38;5;124;43m\"\u001b[39;49m\u001b[38;5;124;43mstudents\u001b[39;49m\u001b[38;5;124;43m\"\u001b[39;49m\u001b[43m]\u001b[49m\n",
      "\u001b[0;31mTypeError\u001b[0m: string indices must be integers"
     ]
    }
   ],
   "source": [
    "text_in_file[\"students\"]"
   ]
  },
  {
   "cell_type": "code",
   "execution_count": 43,
   "id": "552526bb-763e-4b8a-ab3d-90078d523f5a",
   "metadata": {},
   "outputs": [],
   "source": [
    "students_dict = json.loads(text_in_file)"
   ]
  },
  {
   "cell_type": "code",
   "execution_count": 44,
   "id": "2a2323ae-72fa-4b77-a922-f94dae62dcb0",
   "metadata": {},
   "outputs": [
    {
     "data": {
      "text/plain": [
       "dict"
      ]
     },
     "execution_count": 44,
     "metadata": {},
     "output_type": "execute_result"
    }
   ],
   "source": [
    "type(students_dict)"
   ]
  },
  {
   "cell_type": "code",
   "execution_count": 51,
   "id": "a3f5a9f4-00d4-41c0-b76e-a03aadd45cae",
   "metadata": {},
   "outputs": [
    {
     "data": {
      "text/plain": [
       "list"
      ]
     },
     "execution_count": 51,
     "metadata": {},
     "output_type": "execute_result"
    }
   ],
   "source": [
    "students_dict[\"students\"]"
   ]
  },
  {
   "cell_type": "code",
   "execution_count": 67,
   "id": "1772d767-2ed3-4fe2-8aa5-fd8482b01c79",
   "metadata": {},
   "outputs": [],
   "source": [
    "name = \"titli\"\n",
    "phone = \"6564979872657625\""
   ]
  },
  {
   "cell_type": "code",
   "execution_count": 68,
   "id": "f584ed05-c609-4631-8cc9-5ce5d6c995c4",
   "metadata": {},
   "outputs": [],
   "source": [
    "new_person = {\"name\":name,\"phone\":phone}"
   ]
  },
  {
   "cell_type": "code",
   "execution_count": 49,
   "id": "72d6a317-ecf3-4747-9ac6-37ec1df8956c",
   "metadata": {},
   "outputs": [
    {
     "data": {
      "text/plain": [
       "{'name': 'sameer', 'phone': '9898989898'}"
      ]
     },
     "execution_count": 49,
     "metadata": {},
     "output_type": "execute_result"
    }
   ],
   "source": [
    "new_person"
   ]
  },
  {
   "cell_type": "code",
   "execution_count": 52,
   "id": "8324d7bb-65c2-4ef8-9002-12c7ce2b4f70",
   "metadata": {},
   "outputs": [],
   "source": [
    "list_1 = [1,2,3]"
   ]
  },
  {
   "cell_type": "code",
   "execution_count": 53,
   "id": "1dff2edb-4e3c-4816-bd86-63d323ff0bd4",
   "metadata": {},
   "outputs": [],
   "source": [
    "list_1.append(4)"
   ]
  },
  {
   "cell_type": "code",
   "execution_count": 54,
   "id": "1bf44f47-a9fa-49e5-9d86-6a0ce2034bf5",
   "metadata": {},
   "outputs": [
    {
     "data": {
      "text/plain": [
       "[1, 2, 3, 4]"
      ]
     },
     "execution_count": 54,
     "metadata": {},
     "output_type": "execute_result"
    }
   ],
   "source": [
    "list_1"
   ]
  },
  {
   "cell_type": "code",
   "execution_count": 69,
   "id": "c2f7dfe8-f86b-4760-b128-3d85bc222f30",
   "metadata": {},
   "outputs": [],
   "source": [
    "students_dict[\"students\"].append(new_person)"
   ]
  },
  {
   "cell_type": "code",
   "execution_count": 60,
   "id": "4e465f52-75b0-491b-b366-b9769eb560f4",
   "metadata": {},
   "outputs": [
    {
     "data": {
      "text/plain": [
       "{'students': [{'name': 'John Doe', 'phone': '123-456-7890'},\n",
       "  {'name': 'Jane Smith', 'phone': '987-654-3210'},\n",
       "  {'name': 'Michael Johnson', 'phone': '555-123-4567'},\n",
       "  {'name': 'sameer', 'phone': '9898989898'},\n",
       "  {'name': 'tilak', 'phone': '09873653654'}]}"
      ]
     },
     "execution_count": 60,
     "metadata": {},
     "output_type": "execute_result"
    }
   ],
   "source": [
    "students_dict"
   ]
  },
  {
   "cell_type": "code",
   "execution_count": 61,
   "id": "3e34c152-491f-4880-bb4d-a0a98ae20643",
   "metadata": {},
   "outputs": [
    {
     "data": {
      "text/plain": [
       "{'students': [{'name': 'John Doe', 'phone': '123-456-7890'},\n",
       "  {'name': 'Jane Smith', 'phone': '987-654-3210'},\n",
       "  {'name': 'Michael Johnson', 'phone': '555-123-4567'},\n",
       "  {'name': 'sameer', 'phone': '9898989898'},\n",
       "  {'name': 'tilak', 'phone': '09873653654'}]}"
      ]
     },
     "execution_count": 61,
     "metadata": {},
     "output_type": "execute_result"
    }
   ],
   "source": [
    "students_dict"
   ]
  },
  {
   "cell_type": "code",
   "execution_count": 70,
   "id": "8b003982-771e-4146-8958-01b43c26295f",
   "metadata": {},
   "outputs": [],
   "source": [
    "new_updated_data = json.dump(students_dict)"
   ]
  },
  {
   "cell_type": "code",
   "execution_count": 63,
   "id": "b38c441c-538f-4885-b6c1-fb3003958fcc",
   "metadata": {},
   "outputs": [
    {
     "data": {
      "text/plain": [
       "str"
      ]
     },
     "execution_count": 63,
     "metadata": {},
     "output_type": "execute_result"
    }
   ],
   "source": [
    "type(new_updated_data)"
   ]
  },
  {
   "cell_type": "code",
   "execution_count": 71,
   "id": "d46dd264-cdfc-45ee-93c3-f16f4d60a5ff",
   "metadata": {},
   "outputs": [],
   "source": [
    "file = open(\"students.json\", \"w\")\n",
    "file.write(new_updated_data)\n",
    "file.close()"
   ]
  },
  {
   "cell_type": "code",
   "execution_count": null,
   "id": "24248217-09bd-4eca-a73e-6085b6b95ce1",
   "metadata": {},
   "outputs": [],
   "source": []
  },
  {
   "cell_type": "code",
   "execution_count": null,
   "id": "9b17523e-0917-4279-a751-285b68c5a70e",
   "metadata": {},
   "outputs": [],
   "source": []
  },
  {
   "cell_type": "code",
   "execution_count": null,
   "id": "70612d56-e878-4021-ae4b-1b14aa3a3e7b",
   "metadata": {},
   "outputs": [],
   "source": []
  }
 ],
 "metadata": {
  "kernelspec": {
   "display_name": "Python 3 (ipykernel)",
   "language": "python",
   "name": "python3"
  },
  "language_info": {
   "codemirror_mode": {
    "name": "ipython",
    "version": 3
   },
   "file_extension": ".py",
   "mimetype": "text/x-python",
   "name": "python",
   "nbconvert_exporter": "python",
   "pygments_lexer": "ipython3",
   "version": "3.9.12"
  }
 },
 "nbformat": 4,
 "nbformat_minor": 5
}
