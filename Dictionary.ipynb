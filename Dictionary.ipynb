{
 "cells": [
  {
   "cell_type": "code",
   "execution_count": null,
   "id": "7f1585e1-e280-441e-8955-6c014f507cae",
   "metadata": {},
   "outputs": [],
   "source": []
  },
  {
   "cell_type": "code",
   "execution_count": 7,
   "id": "26ba12ef-10f2-4850-b36a-fa2b168afbc1",
   "metadata": {},
   "outputs": [],
   "source": [
    "roll_num = [1,3,5,7,8,9]\n",
    "student_names = [\"Alice\", \"Bob\", \"Charlie\", \"David\", \"Eve\",\"steve\"]"
   ]
  },
  {
   "cell_type": "code",
   "execution_count": null,
   "id": "62cd973a-3b72-4186-8390-c30b4f0a86ca",
   "metadata": {},
   "outputs": [],
   "source": [
    "my_first_dict = {key:value}"
   ]
  },
  {
   "cell_type": "code",
   "execution_count": 2,
   "id": "4560b45a-9ecc-4063-83d2-c55275404318",
   "metadata": {},
   "outputs": [],
   "source": [
    "car_details = {\"brand\": \"Ford\",\"model\": \"Mustang\",\"year\": 1964,\"owner\":\"steve maiden\"}"
   ]
  },
  {
   "cell_type": "code",
   "execution_count": 3,
   "id": "0a8dc809-ca76-4755-a9f2-25ab26bcb043",
   "metadata": {},
   "outputs": [
    {
     "data": {
      "text/plain": [
       "'Mustang'"
      ]
     },
     "execution_count": 3,
     "metadata": {},
     "output_type": "execute_result"
    }
   ],
   "source": [
    "car_details[\"model\"]"
   ]
  },
  {
   "cell_type": "code",
   "execution_count": 4,
   "id": "c00008c0-62db-4954-8f59-fe21edde6ff8",
   "metadata": {},
   "outputs": [
    {
     "data": {
      "text/plain": [
       "1964"
      ]
     },
     "execution_count": 4,
     "metadata": {},
     "output_type": "execute_result"
    }
   ],
   "source": [
    "car_details['year']"
   ]
  },
  {
   "cell_type": "code",
   "execution_count": 6,
   "id": "a4581e02-2c78-4f31-89f3-253e5256c3db",
   "metadata": {},
   "outputs": [],
   "source": [
    "school_dict = {1: 'Alice', 3: 'Bob', 5: 'Charlie', 7: 'David', 8: 'Eve', 9: 'Steve'}\n"
   ]
  },
  {
   "cell_type": "code",
   "execution_count": 5,
   "id": "10cd3831-b1c5-44f1-b3ee-4fc7057e8f99",
   "metadata": {},
   "outputs": [],
   "source": [
    "my_dict = {\"name\":'suman sahoo',\"age\":30,\"country\":\"Germany\"}"
   ]
  },
  {
   "cell_type": "code",
   "execution_count": 8,
   "id": "5337931b-938a-4ab0-91dc-26979efbcba7",
   "metadata": {},
   "outputs": [
    {
     "data": {
      "text/plain": [
       "dict_items([('brand', 'Ford'), ('model', 'Mustang'), ('year', 1964), ('owner', 'steve maiden')])"
      ]
     },
     "execution_count": 8,
     "metadata": {},
     "output_type": "execute_result"
    }
   ],
   "source": [
    "car_details.items()"
   ]
  },
  {
   "cell_type": "code",
   "execution_count": 9,
   "id": "55ff6f94-7a47-48e7-b0d9-86b7a210e9c8",
   "metadata": {},
   "outputs": [
    {
     "data": {
      "text/plain": [
       "dict_keys(['brand', 'model', 'year', 'owner'])"
      ]
     },
     "execution_count": 9,
     "metadata": {},
     "output_type": "execute_result"
    }
   ],
   "source": [
    "car_details.keys()"
   ]
  },
  {
   "cell_type": "code",
   "execution_count": 10,
   "id": "feee5152-c39c-4240-8c01-bf078aaffe63",
   "metadata": {},
   "outputs": [
    {
     "data": {
      "text/plain": [
       "dict_values(['Ford', 'Mustang', 1964, 'steve maiden'])"
      ]
     },
     "execution_count": 10,
     "metadata": {},
     "output_type": "execute_result"
    }
   ],
   "source": [
    "car_details.values()"
   ]
  },
  {
   "cell_type": "code",
   "execution_count": 11,
   "id": "6ab13201-6ecb-438f-a375-136f63ef433a",
   "metadata": {},
   "outputs": [
    {
     "name": "stdout",
     "output_type": "stream",
     "text": [
      "roll number 1 is Alice\n",
      "roll number 3 is Bob\n",
      "roll number 5 is Charlie\n",
      "roll number 7 is David\n",
      "roll number 8 is Eve\n",
      "roll number 9 is Steve\n"
     ]
    }
   ],
   "source": [
    "for key,value in school_dict.items():\n",
    "    print(f'roll number {key} is {value}')"
   ]
  },
  {
   "cell_type": "code",
   "execution_count": 14,
   "id": "72e6c15e-f846-4483-bf67-7d1db468a7e0",
   "metadata": {},
   "outputs": [],
   "source": [
    "school_dict[15]='test'"
   ]
  },
  {
   "cell_type": "code",
   "execution_count": 19,
   "id": "61b089e9-1d97-46d5-9f83-bf7494f2cb23",
   "metadata": {},
   "outputs": [
    {
     "data": {
      "text/plain": [
       "'not avilable'"
      ]
     },
     "execution_count": 19,
     "metadata": {},
     "output_type": "execute_result"
    }
   ],
   "source": [
    "school_dict.get(7666,'not avilable')"
   ]
  },
  {
   "cell_type": "code",
   "execution_count": 17,
   "id": "e3b6ce9e-ee30-4ccd-9d32-242ec1eaa428",
   "metadata": {},
   "outputs": [
    {
     "data": {
      "text/plain": [
       "'David'"
      ]
     },
     "execution_count": 17,
     "metadata": {},
     "output_type": "execute_result"
    }
   ],
   "source": [
    "school_dict[7]"
   ]
  },
  {
   "cell_type": "code",
   "execution_count": 27,
   "id": "48dad59a-3377-4fbd-ab20-c8a6361d66e0",
   "metadata": {},
   "outputs": [
    {
     "ename": "SyntaxError",
     "evalue": "invalid syntax (2538696821.py, line 1)",
     "output_type": "error",
     "traceback": [
      "\u001b[0;36m  Input \u001b[0;32mIn [27]\u001b[0;36m\u001b[0m\n\u001b[0;31m    Exercise 1: Word Frequency Counter\u001b[0m\n\u001b[0m             ^\u001b[0m\n\u001b[0;31mSyntaxError\u001b[0m\u001b[0;31m:\u001b[0m invalid syntax\n"
     ]
    }
   ],
   "source": [
    "Exercise 1: Word Frequency Counter\n",
    "Write a Python program that takes a list of  word as input and creates a dictionary that counts the frequency of each word in the list.\n",
    "Then, print the word and its corresponding frequency. Consider converting all words to lowercase to make the counting case-insensitive.\n",
    "\n",
    "Exercise 2: Unique Elements\n",
    "Write a Python program that takes a list as input and returns a new list containing only the unique elements \n",
    "from the original list, preserving the order of appearance. Avoid using sets to maintain the original order.\n",
    "\n",
    "Exercise 3: Phonebook Application\n",
    "Create a phonebook application using a dictionary. The program should allow users to add new contacts, \n",
    "look up contacts by their names, delete contacts, and list all contacts in the phonebook. Implement a simple menu-based interface to interact with the phonebook.\n",
    "\n",
    "Remember to break down each exercise into smaller steps and use loops and conditionals as needed to solve the problems. \n",
    "These exercises will help you practice manipulating lists and dictionaries with for loops and develop your problem-solving skills in Python. Happy coding!"
   ]
  },
  {
   "cell_type": "code",
   "execution_count": null,
   "id": "6832e4d4-164e-4d1c-abc1-453dd3df2cc2",
   "metadata": {},
   "outputs": [],
   "source": []
  },
  {
   "cell_type": "code",
   "execution_count": null,
   "id": "dbb1f7e4-1cc2-4ba9-803c-5ea764f794fb",
   "metadata": {},
   "outputs": [],
   "source": [
    "{\"suman\":2,\"abhi\":1,\"india\":1}"
   ]
  },
  {
   "cell_type": "code",
   "execution_count": 20,
   "id": "d68ee03f-58da-484f-9afe-ed6ae6b5fbbb",
   "metadata": {},
   "outputs": [],
   "source": [
    "user_input = 'suman,abhi,india,suman'"
   ]
  },
  {
   "cell_type": "code",
   "execution_count": 21,
   "id": "14ede4a2-a9c4-4c45-a121-a06956efc3e9",
   "metadata": {},
   "outputs": [],
   "source": [
    "user_list = user_input.split(',')"
   ]
  },
  {
   "cell_type": "code",
   "execution_count": 22,
   "id": "144fad9a-9d2f-4bcf-9175-ab078e46e338",
   "metadata": {},
   "outputs": [
    {
     "data": {
      "text/plain": [
       "['suman', 'abhi', 'india']"
      ]
     },
     "execution_count": 22,
     "metadata": {},
     "output_type": "execute_result"
    }
   ],
   "source": [
    "user_list"
   ]
  },
  {
   "cell_type": "code",
   "execution_count": null,
   "id": "57589969-ddb8-4f28-a487-4906059aa092",
   "metadata": {},
   "outputs": [],
   "source": [
    "roll_num = [1,3,5,7,8,9]\n",
    "student_names = [\"Alice\", \"Bob\", \"Charlie\", \"David\", \"Eve\",\"steve\"]"
   ]
  },
  {
   "cell_type": "code",
   "execution_count": 26,
   "id": "dd48b42b-09fb-44de-95ac-5967e13aadd4",
   "metadata": {},
   "outputs": [],
   "source": [
    "dict_new=dict(zip(roll_num,student_names))"
   ]
  }
 ],
 "metadata": {
  "kernelspec": {
   "display_name": "Python 3 (ipykernel)",
   "language": "python",
   "name": "python3"
  },
  "language_info": {
   "codemirror_mode": {
    "name": "ipython",
    "version": 3
   },
   "file_extension": ".py",
   "mimetype": "text/x-python",
   "name": "python",
   "nbconvert_exporter": "python",
   "pygments_lexer": "ipython3",
   "version": "3.9.12"
  }
 },
 "nbformat": 4,
 "nbformat_minor": 5
}
