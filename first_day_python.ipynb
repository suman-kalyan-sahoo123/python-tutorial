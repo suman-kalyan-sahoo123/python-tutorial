{
 "cells": [
  {
   "cell_type": "code",
   "execution_count": 5,
   "id": "a159ba60-94d4-4b08-b70c-478c1efb2301",
   "metadata": {},
   "outputs": [
    {
     "name": "stdout",
     "output_type": "stream",
     "text": [
      "hello world\n"
     ]
    }
   ],
   "source": [
    "#this line prints hello world to the screen\n",
    "print(\"hello world\")"
   ]
  },
  {
   "cell_type": "code",
   "execution_count": 6,
   "id": "0f106913-5984-40db-8fb0-1f9ec861cf02",
   "metadata": {},
   "outputs": [],
   "source": [
    "my_name = \" ram \" # this is a variable"
   ]
  },
  {
   "cell_type": "code",
   "execution_count": 7,
   "id": "b1cad9a6-2728-47cf-8f6e-0b28109ca97e",
   "metadata": {},
   "outputs": [
    {
     "data": {
      "text/plain": [
       "str"
      ]
     },
     "execution_count": 7,
     "metadata": {},
     "output_type": "execute_result"
    }
   ],
   "source": [
    "type(my_name)"
   ]
  },
  {
   "cell_type": "code",
   "execution_count": 8,
   "id": "e6247e08-a2d8-4780-92a4-e8cf9cfb291d",
   "metadata": {},
   "outputs": [],
   "source": [
    "my_age = 10"
   ]
  },
  {
   "cell_type": "code",
   "execution_count": 9,
   "id": "8df9026b-6770-48e1-b2d3-e3c556a041b7",
   "metadata": {},
   "outputs": [
    {
     "data": {
      "text/plain": [
       "int"
      ]
     },
     "execution_count": 9,
     "metadata": {},
     "output_type": "execute_result"
    }
   ],
   "source": [
    "type(my_age)"
   ]
  },
  {
   "cell_type": "code",
   "execution_count": 10,
   "id": "5fcf65d8-c239-463d-b8a9-41e33d3da439",
   "metadata": {},
   "outputs": [],
   "source": [
    "first_name = \"abhishek\""
   ]
  },
  {
   "cell_type": "code",
   "execution_count": 11,
   "id": "dfad559b-9517-48e5-8c5a-4e4df0239afb",
   "metadata": {},
   "outputs": [],
   "source": [
    "last_name = \"sahoo\""
   ]
  },
  {
   "cell_type": "code",
   "execution_count": 17,
   "id": "0601f340-0fcb-4ddd-b78e-8a4cf085fe8a",
   "metadata": {},
   "outputs": [
    {
     "name": "stdin",
     "output_type": "stream",
     "text": [
      "enter your first name tilak\n"
     ]
    }
   ],
   "source": [
    "users_first_name = input(\"enter your first name\")"
   ]
  },
  {
   "cell_type": "code",
   "execution_count": 18,
   "id": "3c2b1729-e590-4bf8-a0bc-46a2ed59e207",
   "metadata": {},
   "outputs": [
    {
     "name": "stdout",
     "output_type": "stream",
     "text": [
      "tilak\n"
     ]
    }
   ],
   "source": [
    "print(users_first_name)"
   ]
  },
  {
   "cell_type": "code",
   "execution_count": 19,
   "id": "8c364e64-57bb-4898-984c-6c0c489be786",
   "metadata": {},
   "outputs": [
    {
     "name": "stdout",
     "output_type": "stream",
     "text": [
      "abhishek\n"
     ]
    }
   ],
   "source": [
    "print(first_name)"
   ]
  },
  {
   "cell_type": "code",
   "execution_count": 20,
   "id": "069e2083-26f7-49f1-b5eb-fc922f2fece4",
   "metadata": {},
   "outputs": [],
   "source": [
    "first_name = \"disco\""
   ]
  },
  {
   "cell_type": "code",
   "execution_count": 21,
   "id": "ca6f266e-3487-4dbd-a7d6-1479f984cd55",
   "metadata": {},
   "outputs": [
    {
     "name": "stdout",
     "output_type": "stream",
     "text": [
      "disco\n"
     ]
    }
   ],
   "source": [
    "print(first_name)"
   ]
  },
  {
   "cell_type": "code",
   "execution_count": 27,
   "id": "504e8270-81ba-4b91-a5df-92f47f9de9b8",
   "metadata": {},
   "outputs": [
    {
     "name": "stdin",
     "output_type": "stream",
     "text": [
      "enter the first number you want to add  20\n",
      "enter the second number you want to add  30\n"
     ]
    },
    {
     "name": "stdout",
     "output_type": "stream",
     "text": [
      "50\n"
     ]
    }
   ],
   "source": [
    "number_1 = input(\"enter the first number you want to add \")\n",
    "number_2 = input(\"enter the second number you want to add \")\n",
    "sum = int(number_1) + int(number_2)\n",
    "print(sum)"
   ]
  },
  {
   "cell_type": "code",
   "execution_count": 33,
   "id": "b2c18538-50cb-4376-831c-6b9eb85edb0b",
   "metadata": {},
   "outputs": [
    {
     "name": "stdout",
     "output_type": "stream",
     "text": [
      "10\n"
     ]
    }
   ],
   "source": [
    "var_1 = 10\n",
    "var_2 = var_1\n",
    "print(var_2)"
   ]
  },
  {
   "cell_type": "code",
   "execution_count": 23,
   "id": "9034cdd5-369f-4ec3-bca1-3a8c82f3a7b3",
   "metadata": {},
   "outputs": [
    {
     "name": "stdin",
     "output_type": "stream",
     "text": [
      " enter the first number 10\n"
     ]
    }
   ],
   "source": [
    "first_num = input(\" enter the first number\")"
   ]
  },
  {
   "cell_type": "code",
   "execution_count": 24,
   "id": "17097f62-d423-4f2c-8882-5bbf1d591a92",
   "metadata": {},
   "outputs": [
    {
     "data": {
      "text/plain": [
       "str"
      ]
     },
     "execution_count": 24,
     "metadata": {},
     "output_type": "execute_result"
    }
   ],
   "source": [
    "type(first_num)"
   ]
  },
  {
   "cell_type": "code",
   "execution_count": null,
   "id": "c0d8f427-dfe3-4128-a274-0c1f63e2553e",
   "metadata": {},
   "outputs": [],
   "source": [
    "#Type casting of data types to change the dta type of a varibale to another data type"
   ]
  },
  {
   "cell_type": "code",
   "execution_count": null,
   "id": "05b06f53-7d98-4ec3-8c38-777cfad1fdcc",
   "metadata": {},
   "outputs": [],
   "source": [
    "type(first_num)"
   ]
  },
  {
   "cell_type": "code",
   "execution_count": 25,
   "id": "31d3e839-93f0-4972-bf0e-28e632db9060",
   "metadata": {},
   "outputs": [],
   "source": [
    "first_num = int(first_num)"
   ]
  },
  {
   "cell_type": "code",
   "execution_count": 26,
   "id": "38221584-3647-4bf5-b587-c60add09d227",
   "metadata": {},
   "outputs": [
    {
     "data": {
      "text/plain": [
       "int"
      ]
     },
     "execution_count": 26,
     "metadata": {},
     "output_type": "execute_result"
    }
   ],
   "source": [
    "type(first_num)"
   ]
  },
  {
   "cell_type": "code",
   "execution_count": null,
   "id": "a23c2f50-7ee1-43dc-a33e-31afaeefb388",
   "metadata": {},
   "outputs": [],
   "source": [
    "#string manipulation"
   ]
  },
  {
   "cell_type": "code",
   "execution_count": 29,
   "id": "17a7ef73-c752-4278-a7c3-378503b02a5a",
   "metadata": {},
   "outputs": [
    {
     "name": "stdin",
     "output_type": "stream",
     "text": [
      "enter the first name  tilak\n",
      "enter the last name sahoo\n"
     ]
    },
    {
     "name": "stdout",
     "output_type": "stream",
     "text": [
      "tilak sahoo\n"
     ]
    }
   ],
   "source": [
    "first_name = input(\"enter the first name \")\n",
    "last_name = input(\"enter the last name\")\n",
    "full_name = first_name + \" \" +last_name # this is called string concartination\n",
    "print(full_name)"
   ]
  },
  {
   "cell_type": "code",
   "execution_count": 44,
   "id": "fbaf1f6b-0d44-467f-8d75-8fd9e3beefbf",
   "metadata": {},
   "outputs": [],
   "source": [
    "my_city = \"10\""
   ]
  },
  {
   "cell_type": "code",
   "execution_count": 36,
   "id": "90d9fc23-0fae-4085-bd53-ad1efd125d82",
   "metadata": {},
   "outputs": [
    {
     "data": {
      "text/plain": [
       "'BOMBAY'"
      ]
     },
     "execution_count": 36,
     "metadata": {},
     "output_type": "execute_result"
    }
   ],
   "source": [
    "my_city.upper()"
   ]
  },
  {
   "cell_type": "code",
   "execution_count": 53,
   "id": "21bd2cdf-7fe0-4b70-be50-45b8b662d2d9",
   "metadata": {},
   "outputs": [],
   "source": [
    "result = my_city.isdigit()"
   ]
  },
  {
   "cell_type": "code",
   "execution_count": 54,
   "id": "2ce78f72-75c2-4ee3-a9dd-db0f1802f86c",
   "metadata": {},
   "outputs": [
    {
     "data": {
      "text/plain": [
       "bool"
      ]
     },
     "execution_count": 54,
     "metadata": {},
     "output_type": "execute_result"
    }
   ],
   "source": [
    "type(result)"
   ]
  },
  {
   "cell_type": "code",
   "execution_count": 42,
   "id": "dad3f920-9cca-44ef-85dd-f31f2efbee9d",
   "metadata": {},
   "outputs": [],
   "source": [
    " x = \"10000\""
   ]
  },
  {
   "cell_type": "code",
   "execution_count": 43,
   "id": "28b5c6ca-9f1f-4056-9942-8188f2e601f1",
   "metadata": {},
   "outputs": [
    {
     "data": {
      "text/plain": [
       "str"
      ]
     },
     "execution_count": 43,
     "metadata": {},
     "output_type": "execute_result"
    }
   ],
   "source": [
    "type(x)"
   ]
  },
  {
   "cell_type": "code",
   "execution_count": 49,
   "id": "5aa54ae0-b7a4-4a46-8019-d2581a846655",
   "metadata": {},
   "outputs": [],
   "source": [
    "my_name = \"test is test\""
   ]
  },
  {
   "cell_type": "code",
   "execution_count": 51,
   "id": "2da50267-a40f-4bdc-a558-99547f45ca44",
   "metadata": {},
   "outputs": [
    {
     "data": {
      "text/plain": [
       "4"
      ]
     },
     "execution_count": 51,
     "metadata": {},
     "output_type": "execute_result"
    }
   ],
   "source": [
    "my_name.count('t')"
   ]
  },
  {
   "cell_type": "code",
   "execution_count": null,
   "id": "27a41900-60f1-4877-9a31-afbf898b3a42",
   "metadata": {},
   "outputs": [],
   "source": [
    "my_name."
   ]
  },
  {
   "cell_type": "code",
   "execution_count": 55,
   "id": "5da25f24-2355-4a1b-aeec-502db44cc7a7",
   "metadata": {},
   "outputs": [
    {
     "name": "stdout",
     "output_type": "stream",
     "text": [
      "True\n"
     ]
    }
   ],
   "source": [
    "print(5>2)"
   ]
  },
  {
   "cell_type": "code",
   "execution_count": 56,
   "id": "0f296c35-54b5-45e7-8d29-f1c13da35d5e",
   "metadata": {},
   "outputs": [
    {
     "name": "stdout",
     "output_type": "stream",
     "text": [
      "False\n"
     ]
    }
   ],
   "source": [
    "print(6<2)"
   ]
  },
  {
   "cell_type": "code",
   "execution_count": 57,
   "id": "57c76f57-2a37-4fe7-b510-548437ba4e90",
   "metadata": {},
   "outputs": [],
   "source": [
    "am_i_indian = True"
   ]
  },
  {
   "cell_type": "code",
   "execution_count": 58,
   "id": "40e2e963-1994-468f-9d43-473513dd5f16",
   "metadata": {},
   "outputs": [],
   "source": [
    "am_i_indian = False"
   ]
  },
  {
   "cell_type": "code",
   "execution_count": 59,
   "id": "e0a966ae-e441-42e1-8284-a53a1a293340",
   "metadata": {},
   "outputs": [
    {
     "name": "stdout",
     "output_type": "stream",
     "text": [
      "16\n"
     ]
    }
   ],
   "source": [
    "print(6 + 10)"
   ]
  },
  {
   "cell_type": "code",
   "execution_count": null,
   "id": "e94a0088-8de9-4c81-b793-20f74d4ae73b",
   "metadata": {},
   "outputs": [],
   "source": []
  }
 ],
 "metadata": {
  "kernelspec": {
   "display_name": "Python 3 (ipykernel)",
   "language": "python",
   "name": "python3"
  },
  "language_info": {
   "codemirror_mode": {
    "name": "ipython",
    "version": 3
   },
   "file_extension": ".py",
   "mimetype": "text/x-python",
   "name": "python",
   "nbconvert_exporter": "python",
   "pygments_lexer": "ipython3",
   "version": "3.9.12"
  }
 },
 "nbformat": 4,
 "nbformat_minor": 5
}
