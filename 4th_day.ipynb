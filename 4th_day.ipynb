{
 "cells": [
  {
   "cell_type": "code",
   "execution_count": 1,
   "id": "19eed7c5-a572-4f4a-8161-37697fbd6364",
   "metadata": {},
   "outputs": [],
   "source": [
    "# FOR Loop"
   ]
  },
  {
   "cell_type": "code",
   "execution_count": 2,
   "id": "8ec8863b-86c9-4405-874e-689da20c4c64",
   "metadata": {},
   "outputs": [],
   "source": [
    "names_list = [\"Alice\", \"Bob\", \"Charlie\", \"David\", \"Eve\"]\n"
   ]
  },
  {
   "cell_type": "code",
   "execution_count": 4,
   "id": "b75d1c09-61e0-4ab8-a701-fb3e3ad7fefa",
   "metadata": {},
   "outputs": [
    {
     "name": "stdout",
     "output_type": "stream",
     "text": [
      "My name is Alice\n",
      "My name is Bob\n",
      "My name is Charlie\n",
      "My name is David\n",
      "My name is Eve\n"
     ]
    }
   ],
   "source": [
    "for i in names_list:\n",
    "    print(f'My name is {i}')"
   ]
  },
  {
   "cell_type": "code",
   "execution_count": 5,
   "id": "b6de095c-eee9-4b60-a2d8-fde71513c0bf",
   "metadata": {},
   "outputs": [],
   "source": [
    "numbers_list = [1, 2, 3, 4, 5]\n"
   ]
  },
  {
   "cell_type": "code",
   "execution_count": 6,
   "id": "1a59b178-123d-49d3-ba96-24da1313ae52",
   "metadata": {},
   "outputs": [
    {
     "name": "stdout",
     "output_type": "stream",
     "text": [
      "square of number 1 is 1\n",
      "square of number 2 is 4\n",
      "square of number 3 is 9\n",
      "square of number 4 is 16\n",
      "square of number 5 is 25\n"
     ]
    }
   ],
   "source": [
    "for i in numbers_list:\n",
    "    square_of_num = i * i\n",
    "    print(f'square of number {i} is {square_of_num}')"
   ]
  },
  {
   "cell_type": "code",
   "execution_count": 7,
   "id": "3fd54b16-9f1b-4123-a84a-0934e8864cc0",
   "metadata": {},
   "outputs": [],
   "source": [
    "numbers = range(5)\n",
    "\n"
   ]
  },
  {
   "cell_type": "code",
   "execution_count": 19,
   "id": "bec5b6aa-f297-4057-be0a-4ff0f56b1add",
   "metadata": {},
   "outputs": [],
   "source": [
    "names_list_1 = [\"Alice\", \"Bob\", \"Charlie\", \"David\", \"Eve\",\"steve\"]"
   ]
  },
  {
   "cell_type": "code",
   "execution_count": 21,
   "id": "784c33a7-e7a3-411b-aaad-b49cb2da1982",
   "metadata": {},
   "outputs": [
    {
     "name": "stdout",
     "output_type": "stream",
     "text": [
      "Alice\n",
      "Bob\n",
      "Charlie\n",
      "David\n",
      "Eve\n",
      "steve\n"
     ]
    }
   ],
   "source": [
    "for i in range(len(names_list_1)):\n",
    "    print(names_list_1[i])\n",
    "    \n",
    "\n",
    "\n"
   ]
  },
  {
   "cell_type": "code",
   "execution_count": 15,
   "id": "0ed88098-93bf-4ce0-b117-5cd5529f2299",
   "metadata": {},
   "outputs": [
    {
     "data": {
      "text/plain": [
       "5"
      ]
     },
     "execution_count": 15,
     "metadata": {},
     "output_type": "execute_result"
    }
   ],
   "source": [
    "len(names_list_1) # returns number of elements"
   ]
  },
  {
   "cell_type": "code",
   "execution_count": 22,
   "id": "0e844240-7eab-484c-a7aa-0bcc9fd0f0c6",
   "metadata": {},
   "outputs": [],
   "source": [
    "#loop through a string"
   ]
  },
  {
   "cell_type": "code",
   "execution_count": 25,
   "id": "28212100-1adf-44d6-882c-a32a9441782b",
   "metadata": {},
   "outputs": [],
   "source": [
    "x = 'app  le'"
   ]
  },
  {
   "cell_type": "code",
   "execution_count": 26,
   "id": "27357e18-11ec-49d9-8bd7-aa97befef264",
   "metadata": {},
   "outputs": [
    {
     "name": "stdout",
     "output_type": "stream",
     "text": [
      "a\n",
      "p\n",
      "p\n",
      " \n",
      " \n",
      "l\n",
      "e\n"
     ]
    }
   ],
   "source": [
    "for i in x:\n",
    "    print(i)"
   ]
  },
  {
   "cell_type": "code",
   "execution_count": 27,
   "id": "2a6c3b13-8a7f-4dda-8e75-a19a70846c6d",
   "metadata": {},
   "outputs": [
    {
     "name": "stdout",
     "output_type": "stream",
     "text": [
      "you are allowed\n",
      "you are allowed\n",
      "you are allowed\n",
      "you are not allowed!\n",
      "you are allowed\n",
      "you are allowed\n"
     ]
    }
   ],
   "source": [
    "for i in names_list_1:\n",
    "    if i == 'David':\n",
    "        print('you are not allowed!')\n",
    "    else:\n",
    "        print('you are allowed')"
   ]
  },
  {
   "cell_type": "code",
   "execution_count": 29,
   "id": "6cf4d416-a7de-430b-b583-252e2aad8489",
   "metadata": {},
   "outputs": [
    {
     "name": "stdout",
     "output_type": "stream",
     "text": [
      "you are allowed\n",
      "you are allowed\n",
      "you are allowed\n",
      "you are not allowed!\n"
     ]
    }
   ],
   "source": [
    "for i in names_list_1:\n",
    "    if i == 'David':\n",
    "        print('you are not allowed!')\n",
    "        break\n",
    "    else:\n",
    "        print('you are allowed')\n",
    "        continue"
   ]
  },
  {
   "cell_type": "code",
   "execution_count": 30,
   "id": "ad33ca3f-cd9c-42a2-ae9b-a238b6331cae",
   "metadata": {},
   "outputs": [],
   "source": [
    "roll_num = [1,3,5,7,8,9]\n",
    "student_names = [\"Alice\", \"Bob\", \"Charlie\", \"David\", \"Eve\",\"steve\"]"
   ]
  },
  {
   "cell_type": "code",
   "execution_count": 32,
   "id": "989f5dee-9a0c-4c76-a85b-e9a4566c03ac",
   "metadata": {},
   "outputs": [
    {
     "name": "stdout",
     "output_type": "stream",
     "text": [
      "Roll number 1 is Alice\n",
      "Roll number 3 is Alice\n",
      "Roll number 5 is Alice\n",
      "Roll number 7 is Alice\n",
      "Roll number 8 is Alice\n",
      "Roll number 9 is Alice\n"
     ]
    }
   ],
   "source": [
    "for i in roll_num:\n",
    "    for j in student_names:\n",
    "        print(f'Roll number {i} is {j}')\n",
    "        break"
   ]
  },
  {
   "cell_type": "code",
   "execution_count": 33,
   "id": "fda18884-f94c-42a1-919e-9fdf193ba9ef",
   "metadata": {},
   "outputs": [
    {
     "name": "stdout",
     "output_type": "stream",
     "text": [
      "roll number 1 is Alice\n",
      "roll number 3 is Bob\n",
      "roll number 5 is Charlie\n",
      "roll number 7 is David\n",
      "roll number 8 is Eve\n",
      "roll number 9 is steve\n"
     ]
    }
   ],
   "source": [
    "for  i , j in zip(roll_num,student_names):\n",
    "     print(f\"roll number {i} is {j}\")\n",
    "    "
   ]
  },
  {
   "cell_type": "code",
   "execution_count": 36,
   "id": "b28b44cb-263e-429f-87fd-000ea7976e5d",
   "metadata": {},
   "outputs": [
    {
     "name": "stdout",
     "output_type": "stream",
     "text": [
      "you won the lottery\n"
     ]
    }
   ],
   "source": [
    "for i in student_names:\n",
    "    if i == \"David\":\n",
    "        print('you won the lottery')\n",
    "    else:\n",
    "        pass"
   ]
  },
  {
   "cell_type": "code",
   "execution_count": null,
   "id": "0eadcef4-da53-4d6c-a982-121695aef115",
   "metadata": {},
   "outputs": [],
   "source": []
  }
 ],
 "metadata": {
  "kernelspec": {
   "display_name": "Python 3 (ipykernel)",
   "language": "python",
   "name": "python3"
  },
  "language_info": {
   "codemirror_mode": {
    "name": "ipython",
    "version": 3
   },
   "file_extension": ".py",
   "mimetype": "text/x-python",
   "name": "python",
   "nbconvert_exporter": "python",
   "pygments_lexer": "ipython3",
   "version": "3.9.12"
  }
 },
 "nbformat": 4,
 "nbformat_minor": 5
}
