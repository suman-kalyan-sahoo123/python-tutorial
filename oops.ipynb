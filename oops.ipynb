{
 "cells": [
  {
   "cell_type": "code",
   "execution_count": null,
   "id": "be49e98b",
   "metadata": {},
   "outputs": [],
   "source": [
    "dog --- object"
   ]
  },
  {
   "cell_type": "code",
   "execution_count": null,
   "id": "7de5e259",
   "metadata": {},
   "outputs": [],
   "source": [
    "dog colour\n",
    "dog weight\n",
    "dog breed\n",
    "dog country"
   ]
  },
  {
   "cell_type": "code",
   "execution_count": null,
   "id": "b757828b",
   "metadata": {},
   "outputs": [],
   "source": [
    "dog_1 = black 3.00 pomerian Germany\n",
    "dog_2 = brown 7 german sheferd usa"
   ]
  },
  {
   "cell_type": "code",
   "execution_count": null,
   "id": "b3e504c7",
   "metadata": {},
   "outputs": [],
   "source": [
    "car - class "
   ]
  },
  {
   "cell_type": "code",
   "execution_count": 70,
   "id": "302da4ac",
   "metadata": {},
   "outputs": [],
   "source": [
    "class Dog:\n",
    "  def __init__(self, weight,colour,breed,country): # constructer\n",
    "    self.weight = weight\n",
    "    self.breed = breed\n",
    "    self.colour = colour\n",
    "    self.country=country\n",
    "  \n",
    "\n",
    "  def print_dog(self):\n",
    "    print(f\"Hello this is a dog of {self.colour} colour and weight {self.weight} and breed {self.breed} and country {self.country} \" )\n",
    "\n",
    "\n"
   ]
  },
  {
   "cell_type": "code",
   "execution_count": null,
   "id": "73a96689",
   "metadata": {},
   "outputs": [],
   "source": []
  },
  {
   "cell_type": "code",
   "execution_count": 73,
   "id": "decc3243",
   "metadata": {},
   "outputs": [],
   "source": [
    "dog_1 = Dog(24,'violtet','Pomerian','Germany')\n"
   ]
  },
  {
   "cell_type": "code",
   "execution_count": 74,
   "id": "6ad0a7b4",
   "metadata": {},
   "outputs": [
    {
     "name": "stdout",
     "output_type": "stream",
     "text": [
      "Hello this is a dog of violtet colour and weight 24 and breed Pomerian and country Germany \n"
     ]
    }
   ],
   "source": [
    "dog_1.print_dog()\n"
   ]
  },
  {
   "cell_type": "code",
   "execution_count": 32,
   "id": "31adb2a3",
   "metadata": {},
   "outputs": [
    {
     "data": {
      "text/plain": [
       "'Pomerian'"
      ]
     },
     "execution_count": 32,
     "metadata": {},
     "output_type": "execute_result"
    }
   ],
   "source": [
    "dog_1.breed"
   ]
  },
  {
   "cell_type": "code",
   "execution_count": 33,
   "id": "741a61c8",
   "metadata": {},
   "outputs": [
    {
     "ename": "NameError",
     "evalue": "name 'print_dog' is not defined",
     "output_type": "error",
     "traceback": [
      "\u001b[0;31m---------------------------------------------------------------------------\u001b[0m",
      "\u001b[0;31mNameError\u001b[0m                                 Traceback (most recent call last)",
      "Cell \u001b[0;32mIn[33], line 1\u001b[0m\n\u001b[0;32m----> 1\u001b[0m print_dog()\n",
      "\u001b[0;31mNameError\u001b[0m: name 'print_dog' is not defined"
     ]
    }
   ],
   "source": [
    "print_dog()"
   ]
  },
  {
   "cell_type": "code",
   "execution_count": 24,
   "id": "e0874502",
   "metadata": {},
   "outputs": [],
   "source": [
    "dog_1 = Dog(24,'Red','Pomerian','Germany')\n",
    "dog_2 = Dog(28,'Green','German sheferd' ,'USA')"
   ]
  },
  {
   "cell_type": "code",
   "execution_count": 29,
   "id": "68f51285",
   "metadata": {},
   "outputs": [
    {
     "name": "stdout",
     "output_type": "stream",
     "text": [
      "Hello this is a dog of Red colour and weight 24 and breed Pomerian and country Germany \n"
     ]
    }
   ],
   "source": [
    "dog_1.print_dog()"
   ]
  },
  {
   "cell_type": "code",
   "execution_count": 20,
   "id": "3c28f0f6",
   "metadata": {},
   "outputs": [
    {
     "data": {
      "text/plain": [
       "'German sheferd'"
      ]
     },
     "execution_count": 20,
     "metadata": {},
     "output_type": "execute_result"
    }
   ],
   "source": [
    "dog_2.breed"
   ]
  },
  {
   "cell_type": "code",
   "execution_count": 15,
   "id": "99c5ebba",
   "metadata": {},
   "outputs": [],
   "source": [
    "class NewClass:\n",
    "    x = 10"
   ]
  },
  {
   "cell_type": "code",
   "execution_count": 16,
   "id": "e53330cf",
   "metadata": {},
   "outputs": [],
   "source": [
    "object_class = NewClass()"
   ]
  },
  {
   "cell_type": "code",
   "execution_count": 17,
   "id": "7b98fa57",
   "metadata": {},
   "outputs": [
    {
     "data": {
      "text/plain": [
       "10"
      ]
     },
     "execution_count": 17,
     "metadata": {},
     "output_type": "execute_result"
    }
   ],
   "source": [
    "object_class.x"
   ]
  },
  {
   "cell_type": "code",
   "execution_count": null,
   "id": "5220ad4a",
   "metadata": {},
   "outputs": [],
   "source": [
    "#objectName = ClassName()"
   ]
  },
  {
   "cell_type": "code",
   "execution_count": 100,
   "id": "b2166a0e",
   "metadata": {},
   "outputs": [],
   "source": [
    "# define a class\n",
    "class Bike:\n",
    "  def __init__(self, name,gear): # constructer\n",
    "    self.name = name\n",
    "    self.gear = gear\n",
    "    self.name = f'My name is {name}'\n",
    "  def print_all(self):\n",
    "    print(self.name)\n",
    "\n",
    "class Bike_new:\n",
    "  def __init__(self, name,gear): # constructer\n",
    "    self.name = name\n",
    "    self.gear = gear\n",
    "\n",
    "  def print_all(self):\n",
    "    self.name = f'i have a {self.name} bike'\n",
    "    print(self.name)\n",
    "\n",
    "\n",
    "# create object of class\n",
    "bike1 = Bike('honda',12)\n",
    "bike2=Bike('bajaj',4)\n",
    "\n",
    "\n",
    "\n",
    "# access attributes and assign new values\n"
   ]
  },
  {
   "cell_type": "code",
   "execution_count": 89,
   "id": "f1e4b72b",
   "metadata": {},
   "outputs": [
    {
     "data": {
      "text/plain": [
       "'My name is honda'"
      ]
     },
     "execution_count": 89,
     "metadata": {},
     "output_type": "execute_result"
    }
   ],
   "source": [
    "bike1.name"
   ]
  },
  {
   "cell_type": "code",
   "execution_count": 90,
   "id": "82fcdff5",
   "metadata": {},
   "outputs": [
    {
     "data": {
      "text/plain": [
       "'My name is bajaj'"
      ]
     },
     "execution_count": 90,
     "metadata": {},
     "output_type": "execute_result"
    }
   ],
   "source": [
    "bike2.name"
   ]
  },
  {
   "cell_type": "code",
   "execution_count": 99,
   "id": "bf151426",
   "metadata": {},
   "outputs": [],
   "source": [
    "bike3 = Bike('BMW','5')\n",
    "bike4=Bike_new('BMW',5)"
   ]
  },
  {
   "cell_type": "code",
   "execution_count": 92,
   "id": "b2be4942",
   "metadata": {},
   "outputs": [
    {
     "data": {
      "text/plain": [
       "'My name is BMW'"
      ]
     },
     "execution_count": 92,
     "metadata": {},
     "output_type": "execute_result"
    }
   ],
   "source": [
    "bike3.name"
   ]
  },
  {
   "cell_type": "code",
   "execution_count": 97,
   "id": "09eef9c9",
   "metadata": {},
   "outputs": [
    {
     "name": "stdout",
     "output_type": "stream",
     "text": [
      "My name is BMW\n"
     ]
    }
   ],
   "source": [
    "bike3.print_all()"
   ]
  },
  {
   "cell_type": "code",
   "execution_count": 101,
   "id": "cf052887",
   "metadata": {},
   "outputs": [
    {
     "name": "stdout",
     "output_type": "stream",
     "text": [
      "i have a BMW bike\n"
     ]
    }
   ],
   "source": [
    "bike4.print_all()"
   ]
  },
  {
   "cell_type": "code",
   "execution_count": 102,
   "id": "c2589eac",
   "metadata": {},
   "outputs": [
    {
     "name": "stdout",
     "output_type": "stream",
     "text": [
      "Area of Room = 1309.0\n"
     ]
    }
   ],
   "source": [
    "# create a class\n",
    "class Room:\n",
    "    length = 0.0\n",
    "    breadth = 0.0\n",
    "    \n",
    "    # method to calculate area\n",
    "    def calculate_area(self):\n",
    "        print(\"Area of Room =\", self.length * self.breadth)\n",
    "\n",
    "# create object of Room class\n",
    "study_room = Room()\n",
    "\n",
    "# assign values to all the attributes \n",
    "study_room.length = 42.5\n",
    "study_room.breadth = 30.8\n",
    "\n",
    "# access method inside class\n",
    "study_room.calculate_area()"
   ]
  },
  {
   "cell_type": "code",
   "execution_count": 105,
   "id": "3bb59187",
   "metadata": {},
   "outputs": [],
   "source": [
    "def calculate_area(length,bredth):\n",
    "    print(\"Area of Room =\", length * bredth)\n"
   ]
  },
  {
   "cell_type": "code",
   "execution_count": 106,
   "id": "6e8beb10",
   "metadata": {},
   "outputs": [
    {
     "name": "stdout",
     "output_type": "stream",
     "text": [
      "Area of Room = 1309.0\n"
     ]
    }
   ],
   "source": [
    "calculate_area(42.5,30.8)"
   ]
  },
  {
   "cell_type": "code",
   "execution_count": 115,
   "id": "59e033c4",
   "metadata": {},
   "outputs": [
    {
     "name": "stdout",
     "output_type": "stream",
     "text": [
      "*******   PHONEBOOK MAIN PAGE:   ******\n",
      "\n",
      "******* add new contact(PRESS 1) ******\n",
      "*******  update contact(PRESS 2) ******\n",
      "******* look up contact(PRESS 3) ******\n",
      "*******  delete contact(PRESS 4) ******\n",
      "*******list all contacts(PRESS 5)******\n",
      "*******      quit(PRESS 6)       ******\n",
      "\n"
     ]
    },
    {
     "ename": "KeyboardInterrupt",
     "evalue": "Interrupted by user",
     "output_type": "error",
     "traceback": [
      "\u001b[0;31m---------------------------------------------------------------------------\u001b[0m",
      "\u001b[0;31mKeyboardInterrupt\u001b[0m                         Traceback (most recent call last)",
      "Cell \u001b[0;32mIn[115], line 111\u001b[0m\n\u001b[1;32m    107\u001b[0m                 \u001b[38;5;28mprint\u001b[39m(\u001b[38;5;124m\"\u001b[39m\u001b[38;5;124mInvalid choice. Please choose again.\u001b[39m\u001b[38;5;124m\"\u001b[39m)\n\u001b[1;32m    110\u001b[0m phonebook_app \u001b[38;5;241m=\u001b[39m Phonebook()\n\u001b[0;32m--> 111\u001b[0m phonebook_app\u001b[38;5;241m.\u001b[39mmain_menu()\n",
      "Cell \u001b[0;32mIn[115], line 90\u001b[0m, in \u001b[0;36mPhonebook.main_menu\u001b[0;34m(self)\u001b[0m\n\u001b[1;32m     87\u001b[0m \u001b[38;5;28mprint\u001b[39m(\u001b[38;5;124m\"\u001b[39m\u001b[38;5;124m*******list all contacts(PRESS 5)******\u001b[39m\u001b[38;5;124m\"\u001b[39m)\n\u001b[1;32m     88\u001b[0m \u001b[38;5;28mprint\u001b[39m(\u001b[38;5;124m\"\u001b[39m\u001b[38;5;124m*******      quit(PRESS 6)       ******\u001b[39m\u001b[38;5;130;01m\\n\u001b[39;00m\u001b[38;5;124m\"\u001b[39m)\n\u001b[0;32m---> 90\u001b[0m choice \u001b[38;5;241m=\u001b[39m \u001b[38;5;28minput\u001b[39m(\u001b[38;5;124m'\u001b[39m\u001b[38;5;130;01m\\n\u001b[39;00m\u001b[38;5;124mplease enter your choice\u001b[39m\u001b[38;5;130;01m\\n\u001b[39;00m\u001b[38;5;124m'\u001b[39m)\n\u001b[1;32m     92\u001b[0m \u001b[38;5;28;01mif\u001b[39;00m choice \u001b[38;5;241m==\u001b[39m \u001b[38;5;124m'\u001b[39m\u001b[38;5;124m1\u001b[39m\u001b[38;5;124m'\u001b[39m:\n\u001b[1;32m     93\u001b[0m     \u001b[38;5;28mself\u001b[39m\u001b[38;5;241m.\u001b[39madd_new_contact()\n",
      "File \u001b[0;32m/opt/homebrew/anaconda3/lib/python3.11/site-packages/ipykernel/kernelbase.py:1175\u001b[0m, in \u001b[0;36mKernel.raw_input\u001b[0;34m(self, prompt)\u001b[0m\n\u001b[1;32m   1171\u001b[0m \u001b[38;5;28;01mif\u001b[39;00m \u001b[38;5;129;01mnot\u001b[39;00m \u001b[38;5;28mself\u001b[39m\u001b[38;5;241m.\u001b[39m_allow_stdin:\n\u001b[1;32m   1172\u001b[0m     \u001b[38;5;28;01mraise\u001b[39;00m StdinNotImplementedError(\n\u001b[1;32m   1173\u001b[0m         \u001b[38;5;124m\"\u001b[39m\u001b[38;5;124mraw_input was called, but this frontend does not support input requests.\u001b[39m\u001b[38;5;124m\"\u001b[39m\n\u001b[1;32m   1174\u001b[0m     )\n\u001b[0;32m-> 1175\u001b[0m \u001b[38;5;28;01mreturn\u001b[39;00m \u001b[38;5;28mself\u001b[39m\u001b[38;5;241m.\u001b[39m_input_request(\n\u001b[1;32m   1176\u001b[0m     \u001b[38;5;28mstr\u001b[39m(prompt),\n\u001b[1;32m   1177\u001b[0m     \u001b[38;5;28mself\u001b[39m\u001b[38;5;241m.\u001b[39m_parent_ident[\u001b[38;5;124m\"\u001b[39m\u001b[38;5;124mshell\u001b[39m\u001b[38;5;124m\"\u001b[39m],\n\u001b[1;32m   1178\u001b[0m     \u001b[38;5;28mself\u001b[39m\u001b[38;5;241m.\u001b[39mget_parent(\u001b[38;5;124m\"\u001b[39m\u001b[38;5;124mshell\u001b[39m\u001b[38;5;124m\"\u001b[39m),\n\u001b[1;32m   1179\u001b[0m     password\u001b[38;5;241m=\u001b[39m\u001b[38;5;28;01mFalse\u001b[39;00m,\n\u001b[1;32m   1180\u001b[0m )\n",
      "File \u001b[0;32m/opt/homebrew/anaconda3/lib/python3.11/site-packages/ipykernel/kernelbase.py:1217\u001b[0m, in \u001b[0;36mKernel._input_request\u001b[0;34m(self, prompt, ident, parent, password)\u001b[0m\n\u001b[1;32m   1214\u001b[0m             \u001b[38;5;28;01mbreak\u001b[39;00m\n\u001b[1;32m   1215\u001b[0m \u001b[38;5;28;01mexcept\u001b[39;00m \u001b[38;5;167;01mKeyboardInterrupt\u001b[39;00m:\n\u001b[1;32m   1216\u001b[0m     \u001b[38;5;66;03m# re-raise KeyboardInterrupt, to truncate traceback\u001b[39;00m\n\u001b[0;32m-> 1217\u001b[0m     \u001b[38;5;28;01mraise\u001b[39;00m \u001b[38;5;167;01mKeyboardInterrupt\u001b[39;00m(\u001b[38;5;124m\"\u001b[39m\u001b[38;5;124mInterrupted by user\u001b[39m\u001b[38;5;124m\"\u001b[39m) \u001b[38;5;28;01mfrom\u001b[39;00m \u001b[38;5;28;01mNone\u001b[39;00m\n\u001b[1;32m   1218\u001b[0m \u001b[38;5;28;01mexcept\u001b[39;00m \u001b[38;5;167;01mException\u001b[39;00m:\n\u001b[1;32m   1219\u001b[0m     \u001b[38;5;28mself\u001b[39m\u001b[38;5;241m.\u001b[39mlog\u001b[38;5;241m.\u001b[39mwarning(\u001b[38;5;124m\"\u001b[39m\u001b[38;5;124mInvalid Message:\u001b[39m\u001b[38;5;124m\"\u001b[39m, exc_info\u001b[38;5;241m=\u001b[39m\u001b[38;5;28;01mTrue\u001b[39;00m)\n",
      "\u001b[0;31mKeyboardInterrupt\u001b[0m: Interrupted by user"
     ]
    }
   ],
   "source": [
    "import json\n",
    "\n",
    "class Phonebook:\n",
    "    def __init__(self):\n",
    "        self.phonebook = self.load_phonebook_from_file()\n",
    "        \n",
    "    def load_phonebook_from_file(self):\n",
    "        try:\n",
    "            with open('phonebook.json', 'r') as json_file:\n",
    "                return json.load(json_file)\n",
    "        except FileNotFoundError:\n",
    "            return {}\n",
    "    \n",
    "    def save_phonebook_to_file(self):\n",
    "        with open('phonebook.json', 'w') as json_file:\n",
    "            json.dump(self.phonebook, json_file)\n",
    "    \n",
    "    def add_new_contact(self):\n",
    "        name = input('enter the name - ')\n",
    "        phone_number = input('enter the phone number - ')\n",
    "        if self.check_if_input_is_empty(name) and self.validate_phone_number(phone_number):\n",
    "            self.phonebook[name] = phone_number\n",
    "            print('\\nphone number successfully added!!')\n",
    "            self.save_phonebook_to_file()\n",
    "        else:\n",
    "            print('\\nInvalid input, please try again')\n",
    "    \n",
    "    def update_contact(self):\n",
    "        name = input('enter the name - ')\n",
    "        new_phone_number = input(\"new phone number - \")\n",
    "        if self.check_if_input_is_empty(name) and self.validate_phone_number(new_phone_number):\n",
    "            if name in self.phonebook:\n",
    "                self.phonebook[name] = new_phone_number\n",
    "                print(f'updated phone number for {name} is : {new_phone_number}')\n",
    "                self.save_phonebook_to_file()\n",
    "            else:\n",
    "                print('phone number not found ')\n",
    "        else:\n",
    "            print('Invalid input, please try again')\n",
    "    \n",
    "    def search_contact(self):\n",
    "        name = input('enter the name - ')\n",
    "        if self.check_if_input_is_empty(name):\n",
    "            if name in self.phonebook:\n",
    "                phone_num = self.phonebook[name]\n",
    "                print(f'phone number for {name} is : {phone_num}')\n",
    "            else:\n",
    "                print('phone number not found ')\n",
    "        else:\n",
    "            print('Invalid input, please try again')\n",
    "    \n",
    "    def delete_contact(self):\n",
    "        name = input('enter the name - ')\n",
    "        if self.check_if_input_is_empty(name):\n",
    "            if name in self.phonebook:\n",
    "                del self.phonebook[name]\n",
    "                print(f'successfully deleted {name} from phonebook')\n",
    "                self.save_phonebook_to_file()\n",
    "            else:\n",
    "                print('phone number not found ')\n",
    "        else:\n",
    "            print('Invalid input, please try again')\n",
    "    \n",
    "    def display_all_contacts(self):\n",
    "        for name, number in self.phonebook.items():\n",
    "            print(f'{name} - {number}')\n",
    "    \n",
    "    @staticmethod\n",
    "    def validate_phone_number(phone_num):\n",
    "        if str(phone_num).isnumeric() and len(str(phone_num)) == 10 and not str(phone_num).startswith('0'):\n",
    "            return True\n",
    "        return False\n",
    "    \n",
    "    @staticmethod\n",
    "    def check_if_input_is_empty(input_str):\n",
    "        if len(str(input_str).strip()) == 0:\n",
    "            return False\n",
    "        return True\n",
    "\n",
    "    def main_menu(self):\n",
    "        while True:\n",
    "            print(\"*******   PHONEBOOK MAIN PAGE:   ******\\n\")\n",
    "            print(\"******* add new contact(PRESS 1) ******\")\n",
    "            print(\"*******  update contact(PRESS 2) ******\")\n",
    "            print(\"******* look up contact(PRESS 3) ******\")\n",
    "            print(\"*******  delete contact(PRESS 4) ******\")\n",
    "            print(\"*******list all contacts(PRESS 5)******\")\n",
    "            print(\"*******      quit(PRESS 6)       ******\\n\")\n",
    "            \n",
    "            choice = input('\\nplease enter your choice\\n')\n",
    "            \n",
    "            if choice == '1':\n",
    "                self.add_new_contact()\n",
    "            elif choice == '2':\n",
    "                self.update_contact()\n",
    "            elif choice == '3':\n",
    "                self.search_contact()\n",
    "            elif choice == '4':\n",
    "                self.delete_contact()\n",
    "            elif choice == '5':\n",
    "                self.display_all_contacts()\n",
    "            elif choice == '6':\n",
    "                print(\"Exiting the phonebook application.\")\n",
    "                self.save_phonebook_to_file()\n",
    "                break\n",
    "            else:\n",
    "                print(\"Invalid choice. Please choose again.\")\n",
    "\n",
    "\n",
    "phonebook_app = Phonebook()\n",
    "phonebook_app.main_menu()\n"
   ]
  },
  {
   "cell_type": "code",
   "execution_count": 108,
   "id": "c53ee148",
   "metadata": {},
   "outputs": [],
   "source": [
    "class MyClass:\n",
    "    def __init__(self, value):\n",
    "        self.value = value\n",
    "    \n",
    "    def instance_method(self):\n",
    "        print(\"This is an instance method.\")\n",
    "        print(\"Value:\", self.value)\n",
    "    \n",
    "    @staticmethod\n",
    "    def static_method():\n",
    "        print(\"This is a static method.\")\n",
    "\n",
    "# Creating an instance of MyClass\n",
    "\n"
   ]
  },
  {
   "cell_type": "code",
   "execution_count": 111,
   "id": "c33fb5e1",
   "metadata": {},
   "outputs": [
    {
     "name": "stdout",
     "output_type": "stream",
     "text": [
      "This is a static method.\n"
     ]
    }
   ],
   "source": [
    "obj = MyClass(42)\n",
    "\n",
    "# Calling instance method\n",
    "#obj.instance_method()\n",
    "obj.static_method()\n",
    "# Calling static method using the class itself\n",
    "#MyClass.static_method()"
   ]
  },
  {
   "cell_type": "code",
   "execution_count": 114,
   "id": "8aa95dbe",
   "metadata": {},
   "outputs": [
    {
     "data": {
      "text/plain": [
       "False"
      ]
     },
     "execution_count": 114,
     "metadata": {},
     "output_type": "execute_result"
    }
   ],
   "source": [
    "Phonebook.validate_phone_number('jhfjhfjfh')"
   ]
  },
  {
   "cell_type": "code",
   "execution_count": null,
   "id": "12a0ba0a",
   "metadata": {},
   "outputs": [],
   "source": [
    "Exercise 1: Bank Account\n",
    "Create a BankAccount class with the following attributes and methods:\n",
    "Attributes:\n",
    "\n",
    "account_number: A unique identifier for the account.\n",
    "balance: The current balance in the account.\n",
    "Methods:\n",
    "\n",
    "__init__(self, account_number, initial_balance): Constructor that initializes the account number and initial balance.\n",
    "deposit(self, amount): Method to deposit a given amount into the account.\n",
    "withdraw(self, amount): Method to withdraw a given amount from the account.\n",
    "get_balance(self): Method to retrieve the current balance of the account.\n",
    "Exercise 2: ToDo List\n",
    "Create a ToDoList class to manage a list of tasks with the following attributes and methods:\n",
    "Attributes:\n",
    "\n",
    "tasks: A list to store the tasks.\n",
    "Methods:\n",
    "\n",
    "__init__(self): Constructor that initializes an empty list of tasks.\n",
    "add_task(self, task): Method to add a task to the list.\n",
    "remove_task(self, task): Method to remove a task from the list.\n",
    "get_tasks(self): Method to retrieve the list of tasks.\n",
    "get_completed_tasks(self): Method to retrieve the list of completed tasks.\n",
    "mark_task_complete(self, task): Method to mark a task as completed.\n",
    "These exercises will help you practice creating classes, defining attributes and methods, and using constructors to initialize object instances. You can then implement the methods based on the functionality described for each class."
   ]
  }
 ],
 "metadata": {
  "kernelspec": {
   "display_name": "Python 3 (ipykernel)",
   "language": "python",
   "name": "python3"
  },
  "language_info": {
   "codemirror_mode": {
    "name": "ipython",
    "version": 3
   },
   "file_extension": ".py",
   "mimetype": "text/x-python",
   "name": "python",
   "nbconvert_exporter": "python",
   "pygments_lexer": "ipython3",
   "version": "3.11.4"
  }
 },
 "nbformat": 4,
 "nbformat_minor": 5
}
